{
 "cells": [
  {
   "cell_type": "code",
   "execution_count": 7,
   "metadata": {},
   "outputs": [],
   "source": [
    "from sqlalchemy import create_engine, Column, String, Float, Integer\n",
    "from sqlalchemy.ext.declarative import declarative_base\n",
    "from sqlalchemy.orm import sessionmaker"
   ]
  },
  {
   "cell_type": "code",
   "execution_count": 8,
   "metadata": {},
   "outputs": [],
   "source": [
    "import uuid\n",
    "import time\n",
    "import os \n",
    "from pathlib import Path\n"
   ]
  },
  {
   "cell_type": "code",
   "execution_count": 9,
   "metadata": {},
   "outputs": [],
   "source": [
    "Base = declarative_base()\n",
    "\n",
    "class VehicleState(Base):\n",
    "    \"\"\"车辆状态数据表\"\"\"\n",
    "    __tablename__ = 'vehicle_state'\n",
    "\n",
    "    token = Column(String(36), primary_key=True)\n",
    "    timestamp = Column(Float, nullable=False)\n",
    "    x = Column(Float, nullable=False)\n",
    "    y = Column(Float, nullable=False)\n",
    "    heading = Column(Float, nullable=False)\n",
    "    velocity = Column(Float, nullable=False)\n",
    "    frame_id = Column(Integer, nullable=False)\n",
    "\n",
    "    def __repr__(self):\n",
    "        return f\"VehicleState(frame={self.frame_id}, pos=({self.x:.2f}, {self.y:.2f}))\"\n",
    "\n",
    "\n",
    "class LidarData(Base):\n",
    "    \"\"\"激光雷达数据表\"\"\"\n",
    "    __tablename__ = 'lidar'\n",
    "\n",
    "    token = Column(String(36), primary_key=True)\n",
    "    timestamp = Column(Float, nullable=False)\n",
    "    filename = Column(String(255), nullable=False)\n",
    "    num_points = Column(Integer, nullable=False)\n",
    "    frame_id = Column(Integer, nullable=False)\n",
    "\n",
    "    def __repr__(self):\n",
    "        return f\"LidarData(frame={self.frame_id}, points={self.num_points})\"\n"
   ]
  },
  {
   "cell_type": "code",
   "execution_count": 10,
   "metadata": {},
   "outputs": [],
   "source": [
    "# define the db file path\n",
    "# generate an db file which contains the predefined data class above \n",
    "db_dir = Path(\"./\")\n",
    "db_file = db_dir / \"autodrive_scene.db\"\n",
    "engine = create_engine(f'sqlite:///{db_file.absolute()}')\n",
    "Base.metadata.create_all(engine)\n"
   ]
  },
  {
   "cell_type": "code",
   "execution_count": 11,
   "metadata": {},
   "outputs": [
    {
     "name": "stdout",
     "output_type": "stream",
     "text": [
      "timestamp:  1739114190.315595\n",
      "frame_token:  d470cada-e4d5-4bb0-a206-72c2055928bc\n"
     ]
    }
   ],
   "source": [
    "# 创建会话，并通过sessionmake对数据进行操作\n",
    "Session = sessionmaker(bind=engine)\n",
    "session = Session()\n",
    "\n",
    "# 生成一帧数据\n",
    "timestamp = time.time()\n",
    "frame_token = str(uuid.uuid4())\n",
    "\n",
    "print(\"timestamp: \", timestamp)\n",
    "print(\"frame_token: \", frame_token)\n",
    "# 车辆状态数据\n",
    "vehicle_state = VehicleState(\n",
    "    token=frame_token,\n",
    "    frame_id=int(1),\n",
    "    timestamp=timestamp,\n",
    "    x=100.5,\n",
    "    y=200.3,\n",
    "    heading=1.57,  # 约90度\n",
    "    velocity=10.0,\n",
    ")\n",
    "\n",
    "# Lidar数据\n",
    "lidar_data = LidarData(token=frame_token,\n",
    "                      frame_id = int(1),\n",
    "                       timestamp=timestamp,\n",
    "                       filename=f'lidar/{frame_token}.pcd',\n",
    "                       num_points=100000\n",
    "                        )\n"
   ]
  },
  {
   "cell_type": "code",
   "execution_count": 12,
   "metadata": {},
   "outputs": [],
   "source": [
    "# 将数据添加到数据库\n",
    "session.add(vehicle_state)\n",
    "session.add(lidar_data)\n",
    "session.commit()\n",
    "session.close()"
   ]
  }
 ],
 "metadata": {
  "kernelspec": {
   "display_name": "diffusion_planner",
   "language": "python",
   "name": "python3"
  },
  "language_info": {
   "codemirror_mode": {
    "name": "ipython",
    "version": 3
   },
   "file_extension": ".py",
   "mimetype": "text/x-python",
   "name": "python",
   "nbconvert_exporter": "python",
   "pygments_lexer": "ipython3",
   "version": "3.9.21"
  }
 },
 "nbformat": 4,
 "nbformat_minor": 2
}
