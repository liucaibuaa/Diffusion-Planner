{
 "cells": [
  {
   "cell_type": "code",
   "execution_count": 21,
   "metadata": {},
   "outputs": [],
   "source": [
    "from nuplan.database.nuplan_db_orm.nuplandb import NuPlanDB\n",
    "from pathlib import Path\n",
    "from nuplan.database.nuplan_db_orm.nuplandb_wrapper import NuPlanDBWrapper\n",
    "from nuplan.database.nuplan_db_orm.frame import Frame\n",
    "import os"
   ]
  },
  {
   "cell_type": "code",
   "execution_count": 22,
   "metadata": {},
   "outputs": [],
   "source": [
    "db_path = \"/cailiu2/Diffusion-Planner/data/2021.10.21.14.43.30_veh-28_01244_01519.db\"\n",
    "data_root = \"/cailiu2/Diffusion-Planner/data/\"\n",
    "map_path = \"/cailiu2/Diffusion-Planner/data/maps\"\n",
    "map_version = \"nuplan-maps-v1.0\""
   ]
  },
  {
   "cell_type": "code",
   "execution_count": 23,
   "metadata": {},
   "outputs": [
    {
     "name": "stderr",
     "output_type": "stream",
     "text": [
      "                                     \r"
     ]
    }
   ],
   "source": [
    "#使用wrapper 加载数据\n",
    "nuplan_db_wrapper = NuPlanDBWrapper(    map_root=map_path,\n",
    "    db_files=[db_path],  # 需要是列表\n",
    "    map_version=map_version,\n",
    "    data_root = data_root)"
   ]
  },
  {
   "cell_type": "code",
   "execution_count": 24,
   "metadata": {},
   "outputs": [
    {
     "name": "stdout",
     "output_type": "stream",
     "text": [
      "2021.10.21.14.43.30_veh-28_01244_01519\n"
     ]
    }
   ],
   "source": [
    "log_db_name = nuplan_db_wrapper.log_names\n",
    "print(log_db_name[0])\n",
    "log_db = nuplan_db_wrapper.get_log_db(log_db_name[0])"
   ]
  },
  {
   "cell_type": "code",
   "execution_count": 25,
   "metadata": {},
   "outputs": [
    {
     "name": "stdout",
     "output_type": "stream",
     "text": [
      "The number of lidar_pcs in this log file is 5500.\n"
     ]
    }
   ],
   "source": [
    "lidar_pcs = log_db.lidar_pc\n",
    "print(f\"The number of lidar_pcs in this log file is {len(lidar_pcs)}.\")"
   ]
  },
  {
   "cell_type": "code",
   "execution_count": 26,
   "metadata": {},
   "outputs": [
    {
     "name": "stdout",
     "output_type": "stream",
     "text": [
      "Lidar_pc token: 558a7a2075925da2.\n",
      "Ego pose: <331745.4093055056, 4690691.498171177, -4.570515843069268>.\n"
     ]
    }
   ],
   "source": [
    "#一种最简单的方法：通过外键链接查询对象的属性，如果数据规模较大时，会非常慢\n",
    "example_lidar_pc = lidar_pcs[0]\n",
    "example_ego_pos = example_lidar_pc.ego_pose\n",
    "print(f\"Lidar_pc token: {example_lidar_pc.token}.\")\n",
    "print(f\"Ego pose: <{example_ego_pos.x}, {example_ego_pos.y}, {example_ego_pos.z}>.\")"
   ]
  },
  {
   "cell_type": "code",
   "execution_count": 27,
   "metadata": {},
   "outputs": [
    {
     "name": "stdout",
     "output_type": "stream",
     "text": [
      "Number of lidar_pcs returned: 10.\n"
     ]
    }
   ],
   "source": [
    "#这是一个通过sql session查询对应类型表的方法\n",
    "from nuplan.database.nuplan_db_orm.lidar_pc import LidarPc\n",
    "\n",
    "lidar_pc_objs = log_db.session.query(LidarPc) \\\n",
    "  .filter(LidarPc.timestamp > 1620857890400393) \\\n",
    "  .order_by(LidarPc.timestamp) \\\n",
    "  .limit(10) \\\n",
    "  .all()\n",
    "\n",
    "print(f\"Number of lidar_pcs returned: {len(lidar_pc_objs)}.\")"
   ]
  },
  {
   "cell_type": "code",
   "execution_count": 32,
   "metadata": {},
   "outputs": [
    {
     "name": "stdout",
     "output_type": "stream",
     "text": [
      "2021.10.21.14.43.30_veh-28_01244_01519.db\n",
      "The number of lidar_pcs in this log files is 5500.\n"
     ]
    }
   ],
   "source": [
    "from nuplan.database.nuplan_db.query_session import execute_one, execute_many\n",
    "\n",
    "query = \"\"\"\n",
    "SELECT COUNT(*) AS cnt\n",
    "FROM lidar_pc;\n",
    "\"\"\"\n",
    "print(f\"{log_db_name[0]}.db\")\n",
    "result = execute_one(query, (), os.path.join(data_root, f\"{log_db_name[0]}.db\"))\n",
    "print(f\"The number of lidar_pcs in this log files is {result['cnt']}.\")"
   ]
  },
  {
   "cell_type": "markdown",
   "metadata": {},
   "source": []
  }
 ],
 "metadata": {
  "kernelspec": {
   "display_name": "diffusion_planner",
   "language": "python",
   "name": "python3"
  },
  "language_info": {
   "codemirror_mode": {
    "name": "ipython",
    "version": 3
   },
   "file_extension": ".py",
   "mimetype": "text/x-python",
   "name": "python",
   "nbconvert_exporter": "python",
   "pygments_lexer": "ipython3",
   "version": "3.9.21"
  }
 },
 "nbformat": 4,
 "nbformat_minor": 2
}
