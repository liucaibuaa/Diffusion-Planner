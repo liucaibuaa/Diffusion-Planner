{
 "cells": [
  {
   "cell_type": "code",
   "execution_count": 1,
   "metadata": {},
   "outputs": [],
   "source": [
    "from nuplan.database.nuplan_db_orm.nuplandb import NuPlanDB\n",
    "from pathlib import Path\n",
    "from nuplan.database.nuplan_db_orm.nuplandb_wrapper import NuPlanDBWrapper\n",
    "from nuplan.database.nuplan_db_orm.frame import Frame\n",
    "import os\n",
    "\n",
    "from nuplan.planning.utils.multithreading.worker_pool import Task\n",
    "from nuplan.planning.utils.multithreading.worker_parallel import SingleMachineParallelExecutor\n",
    "from nuplan.planning.scenario_builder.scenario_filter import ScenarioFilter\n",
    "from nuplan.planning.scenario_builder.nuplan_db.nuplan_scenario_builder import NuPlanScenarioBuilder\n",
    "from nuplan.planning.scenario_builder.nuplan_db.nuplan_scenario_utils import ScenarioMapping\n",
    "\n",
    "import os\n",
    "import math\n",
    "import argparse\n",
    "import matplotlib.pyplot as plt\n",
    "from tqdm import tqdm\n",
    "from data_utils import *\n",
    "from trajectory_tree_planner import *\n",
    "from common_utils import get_filter_parameters, get_scenario_map\n",
    "from data_process import DataProcessor\n",
    "from train_utils import DrivingData"
   ]
  },
  {
   "cell_type": "code",
   "execution_count": 2,
   "metadata": {},
   "outputs": [],
   "source": [
    "db_path = \"/cailiu2/Diffusion-Planner/data/2021.10.21.14.43.30_veh-28_01244_01519.db\" # single db file\n",
    "db_path = \"/share/data_cold/open_data/nuplan/data/cache/mini\"  # multi db files\n",
    "data_root = \"/cailiu2/Diffusion-Planner/data/\"\n",
    "map_path = \"/cailiu2/Diffusion-Planner/data/maps\"\n",
    "map_version = \"nuplan-maps-v1.0\"\n",
    "\n",
    "save_processed_path = \"/cailiu2/Diffusion-Planner/data/processed\""
   ]
  },
  {
   "cell_type": "code",
   "execution_count": null,
   "metadata": {},
   "outputs": [
    {
     "name": "stdout",
     "output_type": "stream",
     "text": [
      "len train set:  1\n"
     ]
    }
   ],
   "source": [
    "path = [\"/cailiu2/Diffusion-Planner/data/processed/us-nv-las-vegas-strip_4c8281241cca5fe0.npz\"] # the path must be list\n",
    "train_set = DrivingData(path, 10, 10)\n",
    "print(\"len train set: \", len(train_set))\n",
    "\n",
    "ego, neighbors, map_lanes, map_crosswalks, route_lanes, ego_future_gt, neighbors_future_gt, first_stage, second_stage = train_set[0]\n"
   ]
  },
  {
   "cell_type": "code",
   "execution_count": 9,
   "metadata": {},
   "outputs": [
    {
     "name": "stdout",
     "output_type": "stream",
     "text": [
      "len ego:  21\n",
      "len neighbors:  20\n",
      "len map_lanes:  40\n",
      "len map_crosswalks:  5\n",
      "len route_lanes:  10\n",
      "len ego_future_gt:  80\n",
      "len route_lanes:  10\n",
      "len ego_future_gt:  80\n",
      "len neighbors_future_gt:  10\n",
      "len first_stage:  10\n",
      "len second_stage:  10\n"
     ]
    }
   ],
   "source": [
    "print(\"len ego: \", len(ego))\n",
    "print(\"len neighbors: \", len(neighbors))\n",
    "print(\"len map_lanes: \", len(map_lanes))\n",
    "print(\"len map_crosswalks: \", len(map_crosswalks))\n",
    "print(\"len route_lanes: \", len(route_lanes))\n",
    "print(\"len ego_future_gt: \", len(ego_future_gt))\n",
    "print(\"len route_lanes: \", len(route_lanes))\n",
    "print(\"len ego_future_gt: \", len(ego_future_gt))\n",
    "print(\"len neighbors_future_gt: \", len(neighbors_future_gt))\n",
    "print(\"len first_stage: \", len(first_stage))\n",
    "print(\"len second_stage: \", len(second_stage))\n",
    "\n"
   ]
  },
  {
   "cell_type": "code",
   "execution_count": 10,
   "metadata": {},
   "outputs": [
    {
     "name": "stdout",
     "output_type": "stream",
     "text": [
      "neighbor:  [[-2.5073505e+01 -3.5098851e+00  1.1155486e-02  1.2125978e+01\n",
      "   7.0382878e-02  6.4110663e-04  5.0404859e+00  1.8838710e+00\n",
      "   1.0000000e+00  0.0000000e+00  0.0000000e+00]\n",
      " [-2.3823746e+01 -3.5343525e+00  1.1796593e-02  1.2194538e+01\n",
      "   7.4816376e-02  4.7311592e-03  5.0266089e+00  1.8714266e+00\n",
      "   1.0000000e+00  0.0000000e+00  0.0000000e+00]\n",
      " [-2.2572762e+01 -3.4963319e+00  1.2101531e-02  1.2244821e+01\n",
      "   7.9095379e-02 -5.5693565e-03  5.0320187e+00  1.8758632e+00\n",
      "   1.0000000e+00  0.0000000e+00  0.0000000e+00]\n",
      " [-2.1323002e+01 -3.5207994e+00  1.0682941e-02  1.2266829e+01\n",
      "   6.7682728e-02 -9.2757232e-03  5.0132909e+00  1.8791789e+00\n",
      "   1.0000000e+00  0.0000000e+00  0.0000000e+00]\n",
      " [-2.0072018e+01 -3.4827788e+00  1.0246753e-02  1.2331821e+01\n",
      "   7.5946391e-02  5.7935189e-03  5.0183420e+00  1.8879956e+00\n",
      "   1.0000000e+00  0.0000000e+00  0.0000000e+00]\n",
      " [-1.8822256e+01 -3.5072463e+00  1.1841416e-02  1.2326235e+01\n",
      "   8.0032483e-02  1.2122999e-02  5.0664811e+00  1.8855366e+00\n",
      "   1.0000000e+00  0.0000000e+00  0.0000000e+00]\n",
      " [-1.7571274e+01 -3.4692256e+00  1.2670874e-02  1.2306682e+01\n",
      "   5.9235796e-02 -5.0495571e-04  5.0658884e+00  1.8860917e+00\n",
      "   1.0000000e+00  0.0000000e+00  0.0000000e+00]\n",
      " [-1.6571465e+01 -3.4887996e+00  1.1740445e-02  1.2306006e+01\n",
      "   7.1187600e-02 -1.1707459e-02  5.0821729e+00  1.8891523e+00\n",
      "   1.0000000e+00  0.0000000e+00  0.0000000e+00]\n",
      " [-1.5320480e+01 -3.4507790e+00  1.0329844e-02  1.2345249e+01\n",
      "   4.5130372e-02 -1.9957785e-02  5.0305452e+00  1.8993534e+00\n",
      "   1.0000000e+00  0.0000000e+00  0.0000000e+00]\n",
      " [-1.4070720e+01 -3.4752464e+00  7.7496767e-03  1.2368777e+01\n",
      "   1.7547876e-02 -1.3391047e-02  5.0162315e+00  1.8891587e+00\n",
      "   1.0000000e+00  0.0000000e+00  0.0000000e+00]\n",
      " [-1.2820959e+01 -3.4997137e+00  7.6521640e-03  1.2390646e+01\n",
      "   1.2271121e-02 -6.4713648e-03  5.0417242e+00  1.8929400e+00\n",
      "   1.0000000e+00  0.0000000e+00  0.0000000e+00]\n",
      " [-1.1569976e+01 -3.4616930e+00  6.4556594e-03  1.2406973e+01\n",
      "   2.0334482e-02 -6.8290629e-03  5.0345030e+00  1.9016848e+00\n",
      "   1.0000000e+00  0.0000000e+00  0.0000000e+00]\n",
      " [-1.0320215e+01 -3.4861605e+00  6.2866211e-03  1.2420122e+01\n",
      "  -1.1692733e-02  5.6415019e-03  5.0562344e+00  1.9032172e+00\n",
      "   1.0000000e+00  0.0000000e+00  0.0000000e+00]\n",
      " [-9.0704546e+00 -3.5106280e+00  7.5837369e-03  1.2457011e+01\n",
      "  -6.6770911e-03 -8.2604466e-03  5.1375389e+00  1.9221803e+00\n",
      "   1.0000000e+00  0.0000000e+00  0.0000000e+00]\n",
      " [-7.8194709e+00 -3.4726074e+00  4.6348581e-03  1.2516778e+01\n",
      "  -3.8015738e-02 -2.0167040e-02  5.1431885e+00  1.9253670e+00\n",
      "   1.0000000e+00  0.0000000e+00  0.0000000e+00]\n",
      " [-6.5697103e+00 -3.4970748e+00  3.5511255e-03  1.2547165e+01\n",
      "  -3.8526624e-02 -8.7701799e-03  5.1409531e+00  1.9371462e+00\n",
      "   1.0000000e+00  0.0000000e+00  0.0000000e+00]\n",
      " [-5.3199496e+00 -3.5215423e+00  2.8811686e-03  1.2537897e+01\n",
      "  -3.3879027e-02 -1.6308671e-02  5.0397687e+00  1.9247630e+00\n",
      "   1.0000000e+00  0.0000000e+00  0.0000000e+00]\n",
      " [-4.0689659e+00 -3.4835217e+00  2.9003571e-04  1.2608048e+01\n",
      "  -5.1733389e-02 -8.9674965e-03  5.0028052e+00  1.9319324e+00\n",
      "   1.0000000e+00  0.0000000e+00  0.0000000e+00]\n",
      " [-2.8192053e+00 -3.5079892e+00  1.0880235e-03  1.2619158e+01\n",
      "  -4.1155741e-02  6.1041336e-03  5.0395603e+00  1.9431589e+00\n",
      "   1.0000000e+00  0.0000000e+00  0.0000000e+00]\n",
      " [-1.5682214e+00 -3.4699686e+00  1.5106213e-03  1.2650656e+01\n",
      "  -2.5716200e-02  8.2419729e-03  5.0603442e+00  1.9311028e+00\n",
      "   1.0000000e+00  0.0000000e+00  0.0000000e+00]\n",
      " [-3.1846091e-01 -3.4944360e+00  2.7360925e-03  1.2667273e+01\n",
      "  -1.0085657e-02  1.2254713e-03  5.0900607e+00  1.9213524e+00\n",
      "   1.0000000e+00  0.0000000e+00  0.0000000e+00]]\n"
     ]
    }
   ],
   "source": [
    "neighbor = neighbors[0]\n",
    "print(\"neighbor: \", neighbor)"
   ]
  }
 ],
 "metadata": {
  "kernelspec": {
   "display_name": "diffusion_planner",
   "language": "python",
   "name": "python3"
  },
  "language_info": {
   "codemirror_mode": {
    "name": "ipython",
    "version": 3
   },
   "file_extension": ".py",
   "mimetype": "text/x-python",
   "name": "python",
   "nbconvert_exporter": "python",
   "pygments_lexer": "ipython3",
   "version": "3.9.21"
  }
 },
 "nbformat": 4,
 "nbformat_minor": 2
}
