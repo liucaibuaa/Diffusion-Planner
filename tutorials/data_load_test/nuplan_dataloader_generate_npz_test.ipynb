{
 "cells": [
  {
   "cell_type": "code",
   "execution_count": 1,
   "metadata": {},
   "outputs": [],
   "source": [
    "from nuplan.database.nuplan_db_orm.nuplandb import NuPlanDB\n",
    "from pathlib import Path\n",
    "from nuplan.database.nuplan_db_orm.nuplandb_wrapper import NuPlanDBWrapper\n",
    "from nuplan.database.nuplan_db_orm.frame import Frame\n",
    "import os\n",
    "\n",
    "from nuplan.planning.utils.multithreading.worker_pool import Task\n",
    "from nuplan.planning.utils.multithreading.worker_parallel import SingleMachineParallelExecutor\n",
    "from nuplan.planning.scenario_builder.scenario_filter import ScenarioFilter\n",
    "from nuplan.planning.scenario_builder.nuplan_db.nuplan_scenario_builder import NuPlanScenarioBuilder\n",
    "from nuplan.planning.scenario_builder.nuplan_db.nuplan_scenario_utils import ScenarioMapping\n",
    "\n",
    "import os\n",
    "import math\n",
    "import argparse\n",
    "import matplotlib.pyplot as plt\n",
    "from tqdm import tqdm\n",
    "from data_utils import *\n",
    "from trajectory_tree_planner import *\n",
    "from common_utils import get_filter_parameters, get_scenario_map\n",
    "from data_process import DataProcessor"
   ]
  },
  {
   "cell_type": "code",
   "execution_count": 2,
   "metadata": {},
   "outputs": [],
   "source": [
    "db_path = \"/cailiu2/Diffusion-Planner/data/2021.10.21.14.43.30_veh-28_01244_01519.db\" # single db file\n",
    "db_path = \"/share/data_cold/open_data/nuplan/data/cache/mini\"  # multi db files\n",
    "data_root = \"/cailiu2/Diffusion-Planner/data/\"\n",
    "map_path = \"/cailiu2/Diffusion-Planner/data/maps\"\n",
    "map_version = \"nuplan-maps-v1.0\"\n",
    "\n",
    "save_processed_path = \"/cailiu2/Diffusion-Planner/data/processed\""
   ]
  },
  {
   "cell_type": "code",
   "execution_count": 3,
   "metadata": {},
   "outputs": [
    {
     "name": "stdout",
     "output_type": "stream",
     "text": [
      "ScenarioFilter(scenario_types=['starting_left_turn', 'starting_right_turn', 'starting_straight_traffic_light_intersection_traversal', 'high_lateral_acceleration', 'high_magnitude_speed', 'low_magnitude_speed', 'traversing_pickup_dropoff', 'near_multiple_vehicles', 'changing_lane', 'following_lane_with_lead'], scenario_tokens=None, log_names=None, map_names=None, num_scenarios_per_type=30000, limit_total_scenarios=10, timestamp_threshold_s=None, ego_displacement_minimum_m=None, expand_scenarios=False, remove_invalid_goals=False, shuffle=False, ego_start_speed_threshold=None, ego_stop_speed_threshold=None, speed_noise_tolerance=None, token_set_path=None, fraction_in_token_set_threshold=None, ego_route_radius=None)\n",
      "Total number of training scenarios: 10\n"
     ]
    },
    {
     "name": "stdout",
     "output_type": "stream",
     "text": [
      "Total number of training scenarios: 10\n"
     ]
    }
   ],
   "source": [
    "total_scenarios_num = 10\n",
    "scenario_mapping = ScenarioMapping(scenario_map=get_scenario_map(), subsample_ratio_override=0.5)\n",
    "builder = NuPlanScenarioBuilder(db_path, map_path, None, None, map_version, scenario_mapping=scenario_mapping)\n",
    "scenario_filter = ScenarioFilter(*get_filter_parameters(\n",
    "                                                        num_scenarios_per_type=30000,\n",
    "                                                        limit_total_scenarios=total_scenarios_num))\n",
    "\n",
    "print(scenario_filter) # note: the <scenario_types> in <scenario_filter> is the scenario types thich you want\n",
    "worker = SingleMachineParallelExecutor(use_process_pool=True)\n",
    "scenarios = builder.get_scenarios(scenario_filter, worker)\n",
    "print(f\"Total number of training scenarios: {len(scenarios)}\")\n",
    "del worker, builder, scenario_filter"
   ]
  },
  {
   "cell_type": "code",
   "execution_count": 4,
   "metadata": {},
   "outputs": [],
   "source": [
    "scenario_list = [scenario for scenario in scenarios[:10] ]\n",
    "processor = DataProcessor(scenario_list)#extract the 0 scenarios\n",
    "# processor.work(save_processed_path, debug = True)"
   ]
  },
  {
   "cell_type": "code",
   "execution_count": 5,
   "metadata": {},
   "outputs": [
    {
     "name": "stdout",
     "output_type": "stream",
     "text": [
      "(80, 3)\n"
     ]
    }
   ],
   "source": [
    "processor.scenario = processor._scenarios[5]\n",
    "ego_future_traj = processor.get_ego_agent_future()\n",
    "print(ego_future_traj.shape)\n",
    "\n",
    "ego_agent_past, time_stamps_past = processor.get_ego_agent()\n",
    "neighbor_agents_past, neighbor_agents_types = processor.get_neighbor_agents()\n",
    "ego_agent_past, neighbor_agents_past, neighbor_indices = \\\n",
    "        agent_past_process(ego_agent_past, time_stamps_past, neighbor_agents_past, neighbor_agents_types, processor.num_agents)\n",
    "\n",
    "\n",
    "\n",
    "current_ego_state = processor.scenario.initial_ego_state\n",
    "present_tracked_objects = processor.scenario.initial_tracked_objects.tracked_objects\n",
    "\n",
    "future_tracked_objects = [\n",
    "  tracked_objects.tracked_objects\n",
    "  for tracked_objects in processor.scenario.get_future_tracked_objects(\n",
    "      iteration=0, time_horizon=processor.future_time_horizon, num_samples=processor.num_future_poses\n",
    "  )\n",
    "]\n",
    "sampled_future_observations = [present_tracked_objects] + future_tracked_objects\n",
    "future_tracked_objects_tensor_list, _ = sampled_tracked_objects_to_tensor_list(sampled_future_observations)\n",
    "\n",
    "agent_index = neighbor_indices\n",
    "\n",
    "anchor_ego_state = torch.tensor([current_ego_state.rear_axle.x, current_ego_state.rear_axle.y, current_ego_state.rear_axle.heading,\n",
    "                                     current_ego_state.dynamic_car_state.rear_axle_velocity_2d.x,\n",
    "                                     current_ego_state.dynamic_car_state.rear_axle_velocity_2d.y,\n",
    "                                     current_ego_state.dynamic_car_state.rear_axle_acceleration_2d.x,\n",
    "                                     current_ego_state.dynamic_car_state.rear_axle_acceleration_2d.y])\n",
    "agent_future = filter_agents_tensor(future_tracked_objects_tensor_list)\n"
   ]
  },
  {
   "cell_type": "code",
   "execution_count": 6,
   "metadata": {},
   "outputs": [
    {
     "name": "stdout",
     "output_type": "stream",
     "text": [
      "[1, 4, 15, 2, 14, 13, 16, 6, 5, 8, 17, 3, 7, 0, 37, 38, 19, 20, 22, 28]\n"
     ]
    }
   ],
   "source": [
    "print(agent_index)"
   ]
  },
  {
   "cell_type": "code",
   "execution_count": 10,
   "metadata": {},
   "outputs": [
    {
     "name": "stdout",
     "output_type": "stream",
     "text": [
      "torch.Size([42, 8])\n",
      "torch.Size([42, 8])\n",
      "torch.Size([42, 8])\n",
      "(80, 3)\n",
      "torch.Size([42, 3])\n",
      "tensor([0.0000, 2.0255, 7.1906])\n",
      "[ 1.4783206e+06 -5.8786119e+05  6.7113602e-01]\n",
      "torch.Size([81, 42, 8])\n"
     ]
    }
   ],
   "source": [
    "print(agent_future[1].shape)\n",
    "local_coords_agent_states = []\n",
    "for agent_state in agent_future:\n",
    "  local_coords_agent_states.append(convert_absolute_quantities_to_relative(agent_future[1], anchor_ego_state, 'agent'))\n",
    "\n",
    "print(local_coords_agent_states[0].shape)\n",
    "padded_agent_states = pad_agent_states_with_zeros(local_coords_agent_states)\n",
    "print(padded_agent_states[0].shape)\n",
    "\n",
    "# fill agent features into the arrays\n",
    "agent_futures = np.zeros(shape=(processor.num_agents, padded_agent_states.shape[0]-1, 3), dtype=np.float32)\n",
    "for i, j in enumerate(agent_index):\n",
    "    agent_futures[i] = padded_agent_states[1:, j, [AgentInternalIndex.x(), AgentInternalIndex.y(), AgentInternalIndex.heading()]].numpy()\n",
    "\n",
    "print(agent_futures[0].shape)\n",
    "\n",
    "print(padded_agent_states[0][:, -].shape)\n",
    "print(padded_agent_states[0][0, :3])\n",
    "print(agent_futures[0][0, :3])\n",
    "print(padded_agent_states.shape)"
   ]
  },
  {
   "cell_type": "code",
   "execution_count": 58,
   "metadata": {},
   "outputs": [
    {
     "name": "stdout",
     "output_type": "stream",
     "text": [
      "42\n"
     ]
    },
    {
     "data": {
      "text/html": [
       "\n",
       "  <div class=\"bk-root\" id=\"44a643db-07f8-45fb-9805-94986486476f\" data-root-id=\"8064\"></div>\n"
      ]
     },
     "metadata": {},
     "output_type": "display_data"
    },
    {
     "data": {
      "application/javascript": [
       "(function(root) {\n",
       "  function embed_document(root) {\n",
       "  const docs_json = {\"79320bc1-c33d-4523-881e-374b6628d839\":{\"defs\":[],\"roots\":{\"references\":[{\"attributes\":{\"below\":[{\"id\":\"8075\"}],\"center\":[{\"id\":\"8078\"},{\"id\":\"8082\"},{\"id\":\"8113\"}],\"height\":400,\"left\":[{\"id\":\"8079\"}],\"renderers\":[{\"id\":\"8101\"}],\"title\":{\"id\":\"8065\"},\"toolbar\":{\"id\":\"8090\"},\"x_range\":{\"id\":\"8067\"},\"x_scale\":{\"id\":\"8071\"},\"y_range\":{\"id\":\"8069\"},\"y_scale\":{\"id\":\"8073\"}},\"id\":\"8064\",\"subtype\":\"Figure\",\"type\":\"Plot\"},{\"attributes\":{\"overlay\":{\"id\":\"8089\"}},\"id\":\"8085\",\"type\":\"BoxZoomTool\"},{\"attributes\":{},\"id\":\"8086\",\"type\":\"SaveTool\"},{\"attributes\":{\"coordinates\":null,\"group\":null,\"items\":[{\"id\":\"8114\"}]},\"id\":\"8113\",\"type\":\"Legend\"},{\"attributes\":{},\"id\":\"8083\",\"type\":\"PanTool\"},{\"attributes\":{},\"id\":\"8105\",\"type\":\"BasicTickFormatter\"},{\"attributes\":{},\"id\":\"8087\",\"type\":\"ResetTool\"},{\"attributes\":{\"tools\":[{\"id\":\"8083\"},{\"id\":\"8084\"},{\"id\":\"8085\"},{\"id\":\"8086\"},{\"id\":\"8087\"},{\"id\":\"8088\"}]},\"id\":\"8090\",\"type\":\"Toolbar\"},{\"attributes\":{},\"id\":\"8111\",\"type\":\"Selection\"},{\"attributes\":{\"label\":{\"value\":\"Trajectory\"},\"renderers\":[{\"id\":\"8101\"}]},\"id\":\"8114\",\"type\":\"LegendItem\"},{\"attributes\":{\"line_color\":\"blue\",\"line_width\":2,\"x\":{\"field\":\"x\"},\"y\":{\"field\":\"y\"}},\"id\":\"8098\",\"type\":\"Line\"},{\"attributes\":{\"data\":{\"x\":[664748.8082869705,664752.3769919246,664757.9986369218,664760.4031829233,664750.6872446017,664738.8898236976,664754.9744923688,664741.5896918024,664740.2099860866,664728.3649367791],\"y\":[3999423.2545823287,3999463.3846890586,3999459.2218057895,3999478.0140494662,3999444.7192368656,3999437.1206976813,3999437.6442556367,3999427.4022299824,3999431.7568696337,3999415.671368283]},\"selected\":{\"id\":\"8111\"},\"selection_policy\":{\"id\":\"8110\"}},\"id\":\"8097\",\"type\":\"ColumnDataSource\"},{\"attributes\":{\"bottom_units\":\"screen\",\"coordinates\":null,\"fill_alpha\":0.5,\"fill_color\":\"lightgrey\",\"group\":null,\"left_units\":\"screen\",\"level\":\"overlay\",\"line_alpha\":1.0,\"line_color\":\"black\",\"line_dash\":[4,4],\"line_width\":2,\"right_units\":\"screen\",\"syncable\":false,\"top_units\":\"screen\"},\"id\":\"8089\",\"type\":\"BoxAnnotation\"},{\"attributes\":{},\"id\":\"8110\",\"type\":\"UnionRenderers\"},{\"attributes\":{\"line_alpha\":0.2,\"line_color\":\"blue\",\"line_width\":2,\"x\":{\"field\":\"x\"},\"y\":{\"field\":\"y\"}},\"id\":\"8100\",\"type\":\"Line\"},{\"attributes\":{},\"id\":\"8067\",\"type\":\"DataRange1d\"},{\"attributes\":{},\"id\":\"8069\",\"type\":\"DataRange1d\"},{\"attributes\":{\"axis_label\":\"X\",\"coordinates\":null,\"formatter\":{\"id\":\"8108\"},\"group\":null,\"major_label_policy\":{\"id\":\"8109\"},\"ticker\":{\"id\":\"8076\"}},\"id\":\"8075\",\"type\":\"LinearAxis\"},{\"attributes\":{\"coordinates\":null,\"group\":null,\"text\":\"Torch Tensor Curve\"},\"id\":\"8065\",\"type\":\"Title\"},{\"attributes\":{},\"id\":\"8088\",\"type\":\"HelpTool\"},{\"attributes\":{},\"id\":\"8080\",\"type\":\"BasicTicker\"},{\"attributes\":{},\"id\":\"8071\",\"type\":\"LinearScale\"},{\"attributes\":{},\"id\":\"8076\",\"type\":\"BasicTicker\"},{\"attributes\":{\"axis\":{\"id\":\"8075\"},\"coordinates\":null,\"group\":null,\"ticker\":null},\"id\":\"8078\",\"type\":\"Grid\"},{\"attributes\":{\"line_alpha\":0.1,\"line_color\":\"blue\",\"line_width\":2,\"x\":{\"field\":\"x\"},\"y\":{\"field\":\"y\"}},\"id\":\"8099\",\"type\":\"Line\"},{\"attributes\":{},\"id\":\"8108\",\"type\":\"BasicTickFormatter\"},{\"attributes\":{\"axis_label\":\"Y\",\"coordinates\":null,\"formatter\":{\"id\":\"8105\"},\"group\":null,\"major_label_policy\":{\"id\":\"8106\"},\"ticker\":{\"id\":\"8080\"}},\"id\":\"8079\",\"type\":\"LinearAxis\"},{\"attributes\":{},\"id\":\"8109\",\"type\":\"AllLabels\"},{\"attributes\":{},\"id\":\"8084\",\"type\":\"WheelZoomTool\"},{\"attributes\":{},\"id\":\"8073\",\"type\":\"LinearScale\"},{\"attributes\":{\"source\":{\"id\":\"8097\"}},\"id\":\"8102\",\"type\":\"CDSView\"},{\"attributes\":{\"axis\":{\"id\":\"8079\"},\"coordinates\":null,\"dimension\":1,\"group\":null,\"ticker\":null},\"id\":\"8082\",\"type\":\"Grid\"},{\"attributes\":{\"coordinates\":null,\"data_source\":{\"id\":\"8097\"},\"glyph\":{\"id\":\"8098\"},\"group\":null,\"hover_glyph\":null,\"muted_glyph\":{\"id\":\"8100\"},\"nonselection_glyph\":{\"id\":\"8099\"},\"view\":{\"id\":\"8102\"}},\"id\":\"8101\",\"type\":\"GlyphRenderer\"},{\"attributes\":{},\"id\":\"8106\",\"type\":\"AllLabels\"}],\"root_ids\":[\"8064\"]},\"title\":\"Bokeh Application\",\"version\":\"2.4.3\"}};\n",
       "  const render_items = [{\"docid\":\"79320bc1-c33d-4523-881e-374b6628d839\",\"root_ids\":[\"8064\"],\"roots\":{\"8064\":\"44a643db-07f8-45fb-9805-94986486476f\"}}];\n",
       "  root.Bokeh.embed.embed_items_notebook(docs_json, render_items);\n",
       "  }\n",
       "  if (root.Bokeh !== undefined) {\n",
       "    embed_document(root);\n",
       "  } else {\n",
       "    let attempts = 0;\n",
       "    const timer = setInterval(function(root) {\n",
       "      if (root.Bokeh !== undefined) {\n",
       "        clearInterval(timer);\n",
       "        embed_document(root);\n",
       "      } else {\n",
       "        attempts++;\n",
       "        if (attempts > 100) {\n",
       "          clearInterval(timer);\n",
       "          console.log(\"Bokeh: ERROR: Unable to run BokehJS code because BokehJS library is missing\");\n",
       "        }\n",
       "      }\n",
       "    }, 10, root)\n",
       "  }\n",
       "})(window);"
      ],
      "application/vnd.bokehjs_exec.v0+json": ""
     },
     "metadata": {
      "application/vnd.bokehjs_exec.v0+json": {
       "id": "8064"
      }
     },
     "output_type": "display_data"
    }
   ],
   "source": [
    "object_types = [TrackedObjectType.VEHICLE, TrackedObjectType.PEDESTRIAN, TrackedObjectType.BICYCLE]\n",
    "agents = future_tracked_objects[0].get_tracked_objects_of_types(object_types)\n",
    "print(len(agents))\n",
    "\n",
    "x_list = []\n",
    "y_list = []\n",
    "vx_list = []\n",
    "vy_list = []\n",
    "for i, agent in enumerate(agents):\n",
    "    obj_state.append(agent.box.center.point)\n",
    "    x_list.append(agent.center.point.x)\n",
    "    y_list.append(agent.center.point.y)\n",
    "    vx_list.append(agent.velocity.x)\n",
    "    vy_list.append(agent.velocity.y)\n",
    "p = figure(title=\"Torch Tensor Curve\", x_axis_label=\"X\", y_axis_label=\"Y\", width=600, height=400)\n",
    "\n",
    "# 绘制折线\n",
    "p.line(x_list[:10], y_list[:10], line_width=2, color=\"blue\", legend_label=\"Trajectory\")\n",
    "\n",
    "# 显示图像\n",
    "show(p)"
   ]
  },
  {
   "cell_type": "code",
   "execution_count": 52,
   "metadata": {},
   "outputs": [
    {
     "name": "stdout",
     "output_type": "stream",
     "text": [
      "<class 'list'>\n",
      "<class 'nuplan.common.actor_state.tracked_objects.TrackedObjects'>\n",
      "[<nuplan.common.actor_state.agent.Agent object at 0x7f3847aee5b0>, <nuplan.common.actor_state.agent.Agent object at 0x7f3847aee8e0>, <nuplan.common.actor_state.agent.Agent object at 0x7f3847aee7c0>, <nuplan.common.actor_state.agent.Agent object at 0x7f3847aeeaf0>, <nuplan.common.actor_state.agent.Agent object at 0x7f384e633b20>, <nuplan.common.actor_state.agent.Agent object at 0x7f384a50a250>, <nuplan.common.actor_state.agent.Agent object at 0x7f384a50a8e0>, <nuplan.common.actor_state.agent.Agent object at 0x7f384a50a790>, <nuplan.common.actor_state.agent.Agent object at 0x7f384a50abe0>, <nuplan.common.actor_state.agent.Agent object at 0x7f384a50afd0>, <nuplan.common.actor_state.agent.Agent object at 0x7f3847b0fa30>, <nuplan.common.actor_state.agent.Agent object at 0x7f38453df1f0>, <nuplan.common.actor_state.agent.Agent object at 0x7f38453df2b0>, <nuplan.common.actor_state.agent.Agent object at 0x7f38453df400>, <nuplan.common.actor_state.agent.Agent object at 0x7f38453df8e0>, <nuplan.common.actor_state.agent.Agent object at 0x7f3845387550>, <nuplan.common.actor_state.agent.Agent object at 0x7f3845387c40>, <nuplan.common.actor_state.agent.Agent object at 0x7f3845387220>, <nuplan.common.actor_state.agent.Agent object at 0x7f38453879d0>, <nuplan.common.actor_state.agent.Agent object at 0x7f3849f51160>, <nuplan.common.actor_state.agent.Agent object at 0x7f3849f514c0>, <nuplan.common.actor_state.agent.Agent object at 0x7f3849f51a00>, <nuplan.common.actor_state.agent.Agent object at 0x7f3849f51d00>, <nuplan.common.actor_state.agent.Agent object at 0x7f3849f51c40>, <nuplan.common.actor_state.agent.Agent object at 0x7f3849f51f70>, <nuplan.common.actor_state.agent.Agent object at 0x7f384a5364c0>, <nuplan.common.actor_state.agent.Agent object at 0x7f384a5363a0>, <nuplan.common.actor_state.agent.Agent object at 0x7f384a5366d0>, <nuplan.common.actor_state.agent.Agent object at 0x7f384a5368e0>, <nuplan.common.actor_state.agent.Agent object at 0x7f384a536910>, <nuplan.common.actor_state.agent.Agent object at 0x7f384a536c40>, <nuplan.common.actor_state.agent.Agent object at 0x7f384a536b20>, <nuplan.common.actor_state.agent.Agent object at 0x7f384a536f40>, <nuplan.common.actor_state.agent.Agent object at 0x7f38453df6d0>, <nuplan.common.actor_state.agent.Agent object at 0x7f38453dfcd0>, <nuplan.common.actor_state.agent.Agent object at 0x7f38453dfdf0>, <nuplan.common.actor_state.agent.Agent object at 0x7f38453dfdc0>, <nuplan.common.actor_state.agent.Agent object at 0x7f38453dfb20>, <nuplan.common.actor_state.agent.Agent object at 0x7f38453dfc70>, <nuplan.common.actor_state.agent.Agent object at 0x7f3845387f70>, <nuplan.common.actor_state.agent.Agent object at 0x7f38453873a0>, <nuplan.common.actor_state.agent.Agent object at 0x7f384a536130>, <nuplan.common.actor_state.static_object.StaticObject object at 0x7f3847b0f100>, <nuplan.common.actor_state.static_object.StaticObject object at 0x7f3847b0f820>, <nuplan.common.actor_state.static_object.StaticObject object at 0x7f38453877f0>, <nuplan.common.actor_state.static_object.StaticObject object at 0x7f3845387dc0>, <nuplan.common.actor_state.static_object.StaticObject object at 0x7f3849f51910>, <nuplan.common.actor_state.static_object.StaticObject object at 0x7f384a536820>, <nuplan.common.actor_state.static_object.StaticObject object at 0x7f384a536e50>, <nuplan.common.actor_state.static_object.StaticObject object at 0x7f384a4ed520>, <nuplan.common.actor_state.static_object.StaticObject object at 0x7f384a4ed0d0>, <nuplan.common.actor_state.static_object.StaticObject object at 0x7f3847aeed00>, <nuplan.common.actor_state.static_object.StaticObject object at 0x7f3847aeedf0>, <nuplan.common.actor_state.static_object.StaticObject object at 0x7f3847aeeee0>, <nuplan.common.actor_state.static_object.StaticObject object at 0x7f3847aeefd0>, <nuplan.common.actor_state.static_object.StaticObject object at 0x7f3847aee100>, <nuplan.common.actor_state.static_object.StaticObject object at 0x7f3847aee280>, <nuplan.common.actor_state.static_object.StaticObject object at 0x7f3847aee370>, <nuplan.common.actor_state.static_object.StaticObject object at 0x7f3847aee190>, <nuplan.common.actor_state.static_object.StaticObject object at 0x7f384e609e20>, <nuplan.common.actor_state.static_object.StaticObject object at 0x7f384e6093d0>, <nuplan.common.actor_state.static_object.StaticObject object at 0x7f384e609220>, <nuplan.common.actor_state.static_object.StaticObject object at 0x7f384e609490>, <nuplan.common.actor_state.static_object.StaticObject object at 0x7f384e609160>, <nuplan.common.actor_state.static_object.StaticObject object at 0x7f384e609250>, <nuplan.common.actor_state.static_object.StaticObject object at 0x7f384e609340>, <nuplan.common.actor_state.static_object.StaticObject object at 0x7f384e6095b0>, <nuplan.common.actor_state.static_object.StaticObject object at 0x7f384e6096a0>, <nuplan.common.actor_state.static_object.StaticObject object at 0x7f384e609790>, <nuplan.common.actor_state.static_object.StaticObject object at 0x7f384e609880>, <nuplan.common.actor_state.static_object.StaticObject object at 0x7f384e609970>, <nuplan.common.actor_state.static_object.StaticObject object at 0x7f384e609a60>, <nuplan.common.actor_state.static_object.StaticObject object at 0x7f384e609b50>, <nuplan.common.actor_state.static_object.StaticObject object at 0x7f384e609c40>, <nuplan.common.actor_state.static_object.StaticObject object at 0x7f384e609d30>, <nuplan.common.actor_state.static_object.StaticObject object at 0x7f384e609f40>, <nuplan.common.actor_state.static_object.StaticObject object at 0x7f384e6335e0>, <nuplan.common.actor_state.static_object.StaticObject object at 0x7f384e633610>, <nuplan.common.actor_state.static_object.StaticObject object at 0x7f384e633b80>, <nuplan.common.actor_state.static_object.StaticObject object at 0x7f384e633a30>, <nuplan.common.actor_state.static_object.StaticObject object at 0x7f384e633e80>, <nuplan.common.actor_state.static_object.StaticObject object at 0x7f384e633e50>, <nuplan.common.actor_state.static_object.StaticObject object at 0x7f384e6332b0>, <nuplan.common.actor_state.static_object.StaticObject object at 0x7f384e633190>, <nuplan.common.actor_state.static_object.StaticObject object at 0x7f384e633280>, <nuplan.common.actor_state.static_object.StaticObject object at 0x7f384e633460>, <nuplan.common.actor_state.static_object.StaticObject object at 0x7f384e633550>, <nuplan.common.actor_state.static_object.StaticObject object at 0x7f384e633670>, <nuplan.common.actor_state.static_object.StaticObject object at 0x7f384e633760>, <nuplan.common.actor_state.static_object.StaticObject object at 0x7f384e633850>, <nuplan.common.actor_state.static_object.StaticObject object at 0x7f384e633fd0>, <nuplan.common.actor_state.static_object.StaticObject object at 0x7f384a50a160>, <nuplan.common.actor_state.static_object.StaticObject object at 0x7f384a50a070>, <nuplan.common.actor_state.static_object.StaticObject object at 0x7f384a50aeb0>, <nuplan.common.actor_state.static_object.StaticObject object at 0x7f384a50a400>, <nuplan.common.actor_state.static_object.StaticObject object at 0x7f384a50a4f0>, <nuplan.common.actor_state.static_object.StaticObject object at 0x7f384a50a5e0>, <nuplan.common.actor_state.static_object.StaticObject object at 0x7f384a50a6d0>, <nuplan.common.actor_state.static_object.StaticObject object at 0x7f384a50a7c0>, <nuplan.common.actor_state.static_object.StaticObject object at 0x7f384a50aaf0>, <nuplan.common.actor_state.static_object.StaticObject object at 0x7f384a50adf0>, <nuplan.common.actor_state.static_object.StaticObject object at 0x7f384a50a040>, <nuplan.common.actor_state.static_object.StaticObject object at 0x7f3847b0f4c0>, <nuplan.common.actor_state.static_object.StaticObject object at 0x7f3847b0f0d0>, <nuplan.common.actor_state.static_object.StaticObject object at 0x7f3847b0f280>, <nuplan.common.actor_state.static_object.StaticObject object at 0x7f3847b0fbb0>, <nuplan.common.actor_state.static_object.StaticObject object at 0x7f3847b0f340>, <nuplan.common.actor_state.static_object.StaticObject object at 0x7f3847b0f6d0>, <nuplan.common.actor_state.static_object.StaticObject object at 0x7f3847b0faf0>, <nuplan.common.actor_state.static_object.StaticObject object at 0x7f3847b0f9a0>, <nuplan.common.actor_state.static_object.StaticObject object at 0x7f3847b0fd90>, <nuplan.common.actor_state.static_object.StaticObject object at 0x7f3847b0fdc0>, <nuplan.common.actor_state.static_object.StaticObject object at 0x7f3847b0ff10>, <nuplan.common.actor_state.static_object.StaticObject object at 0x7f3847b0f640>, <nuplan.common.actor_state.static_object.StaticObject object at 0x7f3847b0f730>, <nuplan.common.actor_state.static_object.StaticObject object at 0x7f38453df4c0>, <nuplan.common.actor_state.static_object.StaticObject object at 0x7f38453df970>, <nuplan.common.actor_state.static_object.StaticObject object at 0x7f38453dfe80>, <nuplan.common.actor_state.static_object.StaticObject object at 0x7f38453df3a0>, <nuplan.common.actor_state.static_object.StaticObject object at 0x7f38453dfa30>, <nuplan.common.actor_state.static_object.StaticObject object at 0x7f3845387c10>, <nuplan.common.actor_state.static_object.StaticObject object at 0x7f38453871c0>, <nuplan.common.actor_state.static_object.StaticObject object at 0x7f3845387490>, <nuplan.common.actor_state.static_object.StaticObject object at 0x7f3845387b50>, <nuplan.common.actor_state.static_object.StaticObject object at 0x7f38453878e0>, <nuplan.common.actor_state.static_object.StaticObject object at 0x7f38453878b0>, <nuplan.common.actor_state.static_object.StaticObject object at 0x7f3845387a90>, <nuplan.common.actor_state.static_object.StaticObject object at 0x7f3849f51100>, <nuplan.common.actor_state.static_object.StaticObject object at 0x7f3849f511f0>, <nuplan.common.actor_state.static_object.StaticObject object at 0x7f3849f512e0>, <nuplan.common.actor_state.static_object.StaticObject object at 0x7f3849f513d0>, <nuplan.common.actor_state.static_object.StaticObject object at 0x7f3849f517f0>, <nuplan.common.actor_state.static_object.StaticObject object at 0x7f3849f51c10>, <nuplan.common.actor_state.static_object.StaticObject object at 0x7f3849f51b50>, <nuplan.common.actor_state.static_object.StaticObject object at 0x7f3849f510d0>, <nuplan.common.actor_state.static_object.StaticObject object at 0x7f384a536fa0>, <nuplan.common.actor_state.static_object.StaticObject object at 0x7f384a536220>, <nuplan.common.actor_state.static_object.StaticObject object at 0x7f384a536730>, <nuplan.common.actor_state.static_object.StaticObject object at 0x7f384a536eb0>, <nuplan.common.actor_state.static_object.StaticObject object at 0x7f384a4ed250>, <nuplan.common.actor_state.static_object.StaticObject object at 0x7f384a4edd00>, <nuplan.common.actor_state.static_object.StaticObject object at 0x7f384a4edbb0>, <nuplan.common.actor_state.static_object.StaticObject object at 0x7f384a4edfd0>, <nuplan.common.actor_state.static_object.StaticObject object at 0x7f384a4ed130>]\n"
     ]
    },
    {
     "data": {
      "text/html": [
       "\n",
       "  <div class=\"bk-root\" id=\"f27e22de-c817-43f1-a109-25fdd0bd9f3d\" data-root-id=\"7683\"></div>\n"
      ]
     },
     "metadata": {},
     "output_type": "display_data"
    },
    {
     "data": {
      "application/javascript": [
       "(function(root) {\n",
       "  function embed_document(root) {\n",
       "  const docs_json = {\"a7294ca1-d882-4db3-8260-91e78cafd4a9\":{\"defs\":[],\"roots\":{\"references\":[{\"attributes\":{\"below\":[{\"id\":\"7694\"}],\"center\":[{\"id\":\"7697\"},{\"id\":\"7701\"},{\"id\":\"7732\"}],\"height\":400,\"left\":[{\"id\":\"7698\"}],\"renderers\":[{\"id\":\"7720\"}],\"title\":{\"id\":\"7684\"},\"toolbar\":{\"id\":\"7709\"},\"x_range\":{\"id\":\"7686\"},\"x_scale\":{\"id\":\"7690\"},\"y_range\":{\"id\":\"7688\"},\"y_scale\":{\"id\":\"7692\"}},\"id\":\"7683\",\"subtype\":\"Figure\",\"type\":\"Plot\"},{\"attributes\":{},\"id\":\"7728\",\"type\":\"AllLabels\"},{\"attributes\":{},\"id\":\"7686\",\"type\":\"DataRange1d\"},{\"attributes\":{},\"id\":\"7724\",\"type\":\"BasicTickFormatter\"},{\"attributes\":{\"source\":{\"id\":\"7716\"}},\"id\":\"7721\",\"type\":\"CDSView\"},{\"attributes\":{\"line_color\":\"blue\",\"line_width\":2,\"x\":{\"field\":\"x\"},\"y\":{\"field\":\"y\"}},\"id\":\"7717\",\"type\":\"Line\"},{\"attributes\":{\"coordinates\":null,\"group\":null,\"text\":\"Torch Tensor Curve\"},\"id\":\"7684\",\"type\":\"Title\"},{\"attributes\":{\"line_alpha\":0.1,\"line_color\":\"blue\",\"line_width\":2,\"x\":{\"field\":\"x\"},\"y\":{\"field\":\"y\"}},\"id\":\"7718\",\"type\":\"Line\"},{\"attributes\":{\"line_alpha\":0.2,\"line_color\":\"blue\",\"line_width\":2,\"x\":{\"field\":\"x\"},\"y\":{\"field\":\"y\"}},\"id\":\"7719\",\"type\":\"Line\"},{\"attributes\":{},\"id\":\"7692\",\"type\":\"LinearScale\"},{\"attributes\":{},\"id\":\"7707\",\"type\":\"HelpTool\"},{\"attributes\":{},\"id\":\"7688\",\"type\":\"DataRange1d\"},{\"attributes\":{\"data\":{\"x\":[664748.9527372231,664752.136612725,664757.8038946366,664760.2777879278,664750.4509061512,664738.4295756001,664754.9497489576,664741.2421534092,664739.8791339148,664727.8198902054],\"y\":[3999422.5272481954,3999462.8965920573,3999458.8048520675,3999477.717654384,3999444.224195763,3999436.237635975,3999437.3241967936,3999426.689069574,3999431.118063768,3999414.6664220337]},\"selected\":{\"id\":\"7730\"},\"selection_policy\":{\"id\":\"7729\"}},\"id\":\"7716\",\"type\":\"ColumnDataSource\"},{\"attributes\":{\"label\":{\"value\":\"Trajectory\"},\"renderers\":[{\"id\":\"7720\"}]},\"id\":\"7733\",\"type\":\"LegendItem\"},{\"attributes\":{},\"id\":\"7690\",\"type\":\"LinearScale\"},{\"attributes\":{},\"id\":\"7706\",\"type\":\"ResetTool\"},{\"attributes\":{},\"id\":\"7727\",\"type\":\"BasicTickFormatter\"},{\"attributes\":{\"tools\":[{\"id\":\"7702\"},{\"id\":\"7703\"},{\"id\":\"7704\"},{\"id\":\"7705\"},{\"id\":\"7706\"},{\"id\":\"7707\"}]},\"id\":\"7709\",\"type\":\"Toolbar\"},{\"attributes\":{\"bottom_units\":\"screen\",\"coordinates\":null,\"fill_alpha\":0.5,\"fill_color\":\"lightgrey\",\"group\":null,\"left_units\":\"screen\",\"level\":\"overlay\",\"line_alpha\":1.0,\"line_color\":\"black\",\"line_dash\":[4,4],\"line_width\":2,\"right_units\":\"screen\",\"syncable\":false,\"top_units\":\"screen\"},\"id\":\"7708\",\"type\":\"BoxAnnotation\"},{\"attributes\":{\"axis_label\":\"X\",\"coordinates\":null,\"formatter\":{\"id\":\"7727\"},\"group\":null,\"major_label_policy\":{\"id\":\"7728\"},\"ticker\":{\"id\":\"7695\"}},\"id\":\"7694\",\"type\":\"LinearAxis\"},{\"attributes\":{},\"id\":\"7705\",\"type\":\"SaveTool\"},{\"attributes\":{},\"id\":\"7725\",\"type\":\"AllLabels\"},{\"attributes\":{},\"id\":\"7702\",\"type\":\"PanTool\"},{\"attributes\":{},\"id\":\"7730\",\"type\":\"Selection\"},{\"attributes\":{\"coordinates\":null,\"data_source\":{\"id\":\"7716\"},\"glyph\":{\"id\":\"7717\"},\"group\":null,\"hover_glyph\":null,\"muted_glyph\":{\"id\":\"7719\"},\"nonselection_glyph\":{\"id\":\"7718\"},\"view\":{\"id\":\"7721\"}},\"id\":\"7720\",\"type\":\"GlyphRenderer\"},{\"attributes\":{},\"id\":\"7699\",\"type\":\"BasicTicker\"},{\"attributes\":{\"coordinates\":null,\"group\":null,\"items\":[{\"id\":\"7733\"}]},\"id\":\"7732\",\"type\":\"Legend\"},{\"attributes\":{\"axis_label\":\"Y\",\"coordinates\":null,\"formatter\":{\"id\":\"7724\"},\"group\":null,\"major_label_policy\":{\"id\":\"7725\"},\"ticker\":{\"id\":\"7699\"}},\"id\":\"7698\",\"type\":\"LinearAxis\"},{\"attributes\":{\"axis\":{\"id\":\"7698\"},\"coordinates\":null,\"dimension\":1,\"group\":null,\"ticker\":null},\"id\":\"7701\",\"type\":\"Grid\"},{\"attributes\":{},\"id\":\"7703\",\"type\":\"WheelZoomTool\"},{\"attributes\":{},\"id\":\"7695\",\"type\":\"BasicTicker\"},{\"attributes\":{\"overlay\":{\"id\":\"7708\"}},\"id\":\"7704\",\"type\":\"BoxZoomTool\"},{\"attributes\":{},\"id\":\"7729\",\"type\":\"UnionRenderers\"},{\"attributes\":{\"axis\":{\"id\":\"7694\"},\"coordinates\":null,\"group\":null,\"ticker\":null},\"id\":\"7697\",\"type\":\"Grid\"}],\"root_ids\":[\"7683\"]},\"title\":\"Bokeh Application\",\"version\":\"2.4.3\"}};\n",
       "  const render_items = [{\"docid\":\"a7294ca1-d882-4db3-8260-91e78cafd4a9\",\"root_ids\":[\"7683\"],\"roots\":{\"7683\":\"f27e22de-c817-43f1-a109-25fdd0bd9f3d\"}}];\n",
       "  root.Bokeh.embed.embed_items_notebook(docs_json, render_items);\n",
       "  }\n",
       "  if (root.Bokeh !== undefined) {\n",
       "    embed_document(root);\n",
       "  } else {\n",
       "    let attempts = 0;\n",
       "    const timer = setInterval(function(root) {\n",
       "      if (root.Bokeh !== undefined) {\n",
       "        clearInterval(timer);\n",
       "        embed_document(root);\n",
       "      } else {\n",
       "        attempts++;\n",
       "        if (attempts > 100) {\n",
       "          clearInterval(timer);\n",
       "          console.log(\"Bokeh: ERROR: Unable to run BokehJS code because BokehJS library is missing\");\n",
       "        }\n",
       "      }\n",
       "    }, 10, root)\n",
       "  }\n",
       "})(window);"
      ],
      "application/vnd.bokehjs_exec.v0+json": ""
     },
     "metadata": {
      "application/vnd.bokehjs_exec.v0+json": {
       "id": "7683"
      }
     },
     "output_type": "display_data"
    },
    {
     "name": "stdout",
     "output_type": "stream",
     "text": [
      "[1.4586719518198938, -2.542753191041794, -1.8920678778772522, -1.0146386931287272, -2.2951299425560627, -4.430320672174632, -1.7781214456571095, -3.5260419644374035, -2.954418546178093, -5.617329385957783, 0.0, 0.0, 0.0, -2.138872239978283, -2.6929587673947455, -2.0762069135545147, -1.869295660171175, -0.16687370650532143, 0.0, 3.257659605245421, 0.0, 0.0, 0.0, 0.0, 0.0, 0.0, 0.0, 0.0, 0.0, 5.904097320385934, -3.703963853735043, 6.599387585772917, 0.0, 0.4462775414228296, 0.5239176090835659, 0.4806347969946071, 0.46665228602405523, 0.4805029904352532, 0.5156745282144222, -0.00040580054194594775, 0.5406834101488153, -0.5009528467662728, 0.0, 0.0, 0.0, 0.0, 0.0, 0.0, 0.0, 0.0, 0.0, 0.0, 0.0, 0.0, 0.0, 0.0, 0.0, 0.0, 0.0, 0.0, 0.0, 0.0, 0.0, 0.0, 0.0, 0.0, 0.0, 0.0, 0.0, 0.0, 0.0, 0.0, 0.0, 0.0, 0.0, 0.0, 0.0, 0.0, 0.0, 0.0, 0.0, 0.0, 0.0, 0.0, 0.0, 0.0, 0.0, 0.0, 0.0, 0.0, 0.0, 0.0, 0.0, 0.0, 0.0, 0.0, 0.0, 0.0, 0.0, 0.0, 0.0, 0.0, 0.0, 0.0, 0.0, 0.0, 0.0, 0.0, 0.0, 0.0, 0.0, 0.0, 0.0, 0.0, 0.0, 0.0, 0.0, 0.0, 0.0, 0.0, 0.0, 0.0, 0.0, 0.0, 0.0, 0.0, 0.0, 0.0, 0.0, 0.0, 0.0, 0.0, 0.0, 0.0, 0.0, 0.0, 0.0, 0.0, 0.0, 0.0, 0.0, 0.0]\n",
      "[-7.443124239620369, -4.98817793705141, -3.799683829402228, -2.127006290046127, -4.73173888293586, -8.378887841579806, -5.731671245459371, -7.090780831611312, -5.789790928498479, -10.827063205358918, 0.0, 0.0, 0.0, -5.042259097617775, -5.192800265075785, -4.071443412670571, -3.7865827445681544, -0.3956379049090813, 0.0, -6.908045441667122, 0.0, 0.0, 0.0, 0.0, 0.0, 0.0, 0.0, 0.0, 0.0, 12.77838707591208, -7.283486829105585, -0.24669919973058985, 0.0, 0.8110879316105449, 0.8454156644822974, 0.8840111351623186, 0.8750677252760614, 0.9972666807733523, 0.9459952790594186, 0.025310134614144095, 0.8965315703192518, -1.1290171158018323, 0.0, 0.0, 0.0, 0.0, 0.0, 0.0, 0.0, 0.0, 0.0, 0.0, 0.0, 0.0, 0.0, 0.0, 0.0, 0.0, 0.0, 0.0, 0.0, 0.0, 0.0, 0.0, 0.0, 0.0, 0.0, 0.0, 0.0, 0.0, 0.0, 0.0, 0.0, 0.0, 0.0, 0.0, 0.0, 0.0, 0.0, 0.0, 0.0, 0.0, 0.0, 0.0, 0.0, 0.0, 0.0, 0.0, 0.0, 0.0, 0.0, 0.0, 0.0, 0.0, 0.0, 0.0, 0.0, 0.0, 0.0, 0.0, 0.0, 0.0, 0.0, 0.0, 0.0, 0.0, 0.0, 0.0, 0.0, 0.0, 0.0, 0.0, 0.0, 0.0, 0.0, 0.0, 0.0, 0.0, 0.0, 0.0, 0.0, 0.0, 0.0, 0.0, 0.0, 0.0, 0.0, 0.0, 0.0, 0.0, 0.0, 0.0, 0.0, 0.0, 0.0, 0.0, 0.0, 0.0, 0.0, 0.0, 0.0, 0.0]\n"
     ]
    }
   ],
   "source": [
    "print(type(sampled_future_observations))\n",
    "print(type(sampled_future_observations[1]))\n",
    "print(list(sampled_future_observations[0]))\n",
    "\n",
    "obj_state=[]\n",
    "x_list = []\n",
    "y_list = []\n",
    "vx_list = []\n",
    "vy_list = []\n",
    "for i, agent in enumerate(sampled_future_observations[2]):\n",
    "    obj_state.append(agent.box.center.point)\n",
    "    x_list.append(agent.center.point.x)\n",
    "    y_list.append(agent.center.point.y)\n",
    "    vx_list.append(agent.velocity.x)\n",
    "    vy_list.append(agent.velocity.y)\n",
    "    \n",
    "p = figure(title=\"Torch Tensor Curve\", x_axis_label=\"X\", y_axis_label=\"Y\", width=600, height=400)\n",
    "\n",
    "# 绘制折线\n",
    "p.line(x_list[:10], y_list[:10], line_width=2, color=\"blue\", legend_label=\"Trajectory\")\n",
    "\n",
    "# 显示图像\n",
    "show(p)\n",
    "\n",
    "print(vx_list)\n",
    "print(vy_list)\n"
   ]
  }
 ],
 "metadata": {
  "kernelspec": {
   "display_name": "Python 3 (ipykernel)",
   "language": "python",
   "name": "python3"
  },
  "language_info": {
   "codemirror_mode": {
    "name": "ipython",
    "version": 3
   },
   "file_extension": ".py",
   "mimetype": "text/x-python",
   "name": "python",
   "nbconvert_exporter": "python",
   "pygments_lexer": "ipython3",
   "version": "3.9.21"
  }
 },
 "nbformat": 4,
 "nbformat_minor": 4
}
