{
 "cells": [
  {
   "cell_type": "code",
   "execution_count": 8,
   "metadata": {},
   "outputs": [],
   "source": [
    "from nuplan.database.nuplan_db_orm.nuplandb import NuPlanDB\n",
    "from pathlib import Path\n",
    "from nuplan.database.nuplan_db_orm.nuplandb_wrapper import NuPlanDBWrapper\n",
    "from nuplan.database.nuplan_db_orm.frame import Frame\n",
    "import os\n",
    "\n",
    "from nuplan.planning.utils.multithreading.worker_pool import Task\n",
    "from nuplan.planning.utils.multithreading.worker_parallel import SingleMachineParallelExecutor\n",
    "from nuplan.planning.scenario_builder.scenario_filter import ScenarioFilter\n",
    "from nuplan.planning.scenario_builder.nuplan_db.nuplan_scenario_builder import NuPlanScenarioBuilder\n",
    "from nuplan.planning.scenario_builder.nuplan_db.nuplan_scenario_utils import ScenarioMapping\n",
    "\n",
    "import os\n",
    "import math\n",
    "import argparse\n",
    "import matplotlib.pyplot as plt\n",
    "from tqdm import tqdm\n",
    "from data_utils import *\n",
    "from trajectory_tree_planner import *\n",
    "from common_utils import get_filter_parameters, get_scenario_map\n",
    "from data_process import DataProcessor"
   ]
  },
  {
   "cell_type": "code",
   "execution_count": 9,
   "metadata": {},
   "outputs": [],
   "source": [
    "db_path = \"/cailiu2/Diffusion-Planner/data/2021.10.21.14.43.30_veh-28_01244_01519.db\"\n",
    "data_root = \"/cailiu2/Diffusion-Planner/data/\"\n",
    "map_path = \"/cailiu2/Diffusion-Planner/data/maps\"\n",
    "map_version = \"nuplan-maps-v1.0\""
   ]
  },
  {
   "cell_type": "code",
   "execution_count": 10,
   "metadata": {},
   "outputs": [],
   "source": [
    "total_scenarios_num = 300\n",
    "scenario_mapping = ScenarioMapping(scenario_map=get_scenario_map(), subsample_ratio_override=0.5)\n",
    "builder = NuPlanScenarioBuilder(db_path, map_path, None, None, map_version, scenario_mapping=scenario_mapping)\n",
    "scenario_filter = ScenarioFilter(*get_filter_parameters(num_scenarios_per_type=30000,\n",
    "                                                        limit_total_scenarios=total_scenarios_num))\n",
    "worker = SingleMachineParallelExecutor(use_process_pool=True)\n",
    "scenarios = builder.get_scenarios(scenario_filter, worker)\n",
    "\n",
    "del worker, builder, scenario_filter"
   ]
  },
  {
   "cell_type": "code",
   "execution_count": 11,
   "metadata": {},
   "outputs": [],
   "source": [
    "processor = DataProcessor(scenarios)"
   ]
  }
 ],
 "metadata": {
  "kernelspec": {
   "display_name": "diffusion_planner",
   "language": "python",
   "name": "python3"
  },
  "language_info": {
   "codemirror_mode": {
    "name": "ipython",
    "version": 3
   },
   "file_extension": ".py",
   "mimetype": "text/x-python",
   "name": "python",
   "nbconvert_exporter": "python",
   "pygments_lexer": "ipython3",
   "version": "3.9.21"
  }
 },
 "nbformat": 4,
 "nbformat_minor": 2
}
