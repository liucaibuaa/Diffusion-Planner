{
 "cells": [
  {
   "cell_type": "code",
   "execution_count": 32,
   "metadata": {},
   "outputs": [],
   "source": [
    "from diffusion_planner.data_process.data_processor import DataProcessor\n",
    "from nuplan.common.actor_state.state_representation import Point2D\n",
    "from nuplan.planning.scenario_builder.nuplan_db.nuplan_scenario_utils import ScenarioMapping\n",
    "from nuplan.planning.scenario_builder.nuplan_db.nuplan_scenario_builder import NuPlanScenarioBuilder\n",
    "from nuplan.planning.scenario_builder.scenario_filter import ScenarioFilter\n",
    "from nuplan.planning.utils.multithreading.worker_parallel import SingleMachineParallelExecutor\n",
    "\n",
    "from diffusion_planner.data_process.utils import (\n",
    "get_scenario_map,\n",
    "get_filter_parameters,\n",
    "sampled_tracked_objects_to_tensor,\n",
    ")\n",
    "\n",
    "from diffusion_planner.data_process.roadblock_utils import (\n",
    "  route_roadblock_correction\n",
    ")\n",
    "\n",
    "\n",
    "from diffusion_planner.data_process.agent_process import(sampled_tracked_objects_to_array_list,\n",
    "                                                         sampled_static_objects_to_array_list,\n",
    "                                                         agent_past_process,)\n",
    "from diffusion_planner.data_process.map_process import(map_process,\n",
    "                                                       get_neighbor_vector_set_map)\n",
    "import numpy as np\n",
    "import torch"
   ]
  },
  {
   "cell_type": "code",
   "execution_count": 33,
   "metadata": {},
   "outputs": [
    {
     "name": "stdout",
     "output_type": "stream",
     "text": [
      "Worker threads: 128\n"
     ]
    },
    {
     "name": "stderr",
     "output_type": "stream",
     "text": [
      "  0%|          | 0/10 [00:00<?, ?it/s]\n"
     ]
    },
    {
     "ename": "AttributeError",
     "evalue": "'DataProcessor' object has no attribute 'future_time_horizon'",
     "output_type": "error",
     "traceback": [
      "\u001b[0;31m---------------------------------------------------------------------------\u001b[0m",
      "\u001b[0;31mAttributeError\u001b[0m                            Traceback (most recent call last)",
      "Cell \u001b[0;32mIn[33], line 19\u001b[0m\n\u001b[1;32m     17\u001b[0m \u001b[38;5;28;01mdel\u001b[39;00m worker, builder, scenario_filter\n\u001b[1;32m     18\u001b[0m processor \u001b[38;5;241m=\u001b[39m DataProcessor(scenarios,device)\n\u001b[0;32m---> 19\u001b[0m \u001b[43mprocessor\u001b[49m\u001b[38;5;241;43m.\u001b[39;49m\u001b[43mwork\u001b[49m\u001b[43m(\u001b[49m\u001b[43msave_path\u001b[49m\u001b[43m,\u001b[49m\u001b[43m \u001b[49m\u001b[43mdebug\u001b[49m\u001b[38;5;241;43m=\u001b[39;49m\u001b[38;5;28;43;01mFalse\u001b[39;49;00m\u001b[43m)\u001b[49m\n",
      "File \u001b[0;32m/cailiu2/Diffusion-Planner/diffusion_planner/data_process/data_processor.py:168\u001b[0m, in \u001b[0;36mwork\u001b[0;34m(self, save_dir, debug)\u001b[0m\n\u001b[1;32m    166\u001b[0m static_objects, static_objects_types \u001b[38;5;241m=\u001b[39msampled_static_objects_to_array_list(neighbor_past[\u001b[38;5;241m-\u001b[39m\u001b[38;5;241m1\u001b[39m])\n\u001b[1;32m    167\u001b[0m tracked_objects_list \u001b[38;5;241m=\u001b[39m []\n\u001b[0;32m--> 168\u001b[0m \u001b[38;5;28;01mfor\u001b[39;00m tracked_object \u001b[38;5;129;01min\u001b[39;00m tracked_objects:\n\u001b[1;32m    169\u001b[0m    tracked_objects_list\u001b[38;5;241m.\u001b[39mappend(tracked_object)\n\u001b[1;32m    170\u001b[0m _, neighbor_past, selected_indices, static_objects \u001b[38;5;241m=\u001b[39m agent_past_process(\u001b[38;5;28;01mNone\u001b[39;00m, tracked_objects, tracked_objects_types, \u001b[38;5;28mself\u001b[39m\u001b[38;5;241m.\u001b[39mnum_agents,\\\n\u001b[1;32m    171\u001b[0m                                                          static_objects, static_objects_types, \\\n\u001b[1;32m    172\u001b[0m                                                          \u001b[38;5;28mself\u001b[39m\u001b[38;5;241m.\u001b[39mnum_static, \u001b[38;5;28mself\u001b[39m\u001b[38;5;241m.\u001b[39mmax_ped_bike, anchor_ego_state)\n",
      "\u001b[0;31mAttributeError\u001b[0m: 'DataProcessor' object has no attribute 'future_time_horizon'"
     ]
    }
   ],
   "source": [
    "db_path = \"/cailiu2/Diffusion-Planner/data/2021.10.21.14.43.30_veh-28_01244_01519.db\" # single db file\n",
    "db_path = \"/share/data_cold/open_data/nuplan/data/cache/mini\"  # mini db files\n",
    "\n",
    "map_path = \"/share/data_cold/open_data/nuplan/maps\"\n",
    "save_path = \"/cailiu2/Diffusion-Planner/data/processed\"\n",
    "map_version = \"nuplan-maps-v1.0\"\n",
    "\n",
    "save_processed_path = \"/cailiu2/Diffusion-Planner/data/processed\"\n",
    "total_scenarios = 10\n",
    "scenario_mapping = ScenarioMapping(scenario_map=get_scenario_map(), subsample_ratio_override=0.5)\n",
    "builder = NuPlanScenarioBuilder(db_path, map_path, None, None, map_version, scenario_mapping = scenario_mapping)\n",
    "worker = SingleMachineParallelExecutor(use_process_pool=True)\n",
    "scenario_filter = ScenarioFilter(*get_filter_parameters(num_scenarios_per_type=30000,\n",
    "                                                          limit_total_scenarios=total_scenarios))\n",
    "scenarios = builder.get_scenarios(scenario_filter, worker)\n",
    "device = torch.device(\"cuda:0\" if torch.cuda.is_available() else \"cpu\")\n",
    "del worker, builder, scenario_filter\n",
    "processor = DataProcessor(scenarios,device)\n",
    "processor.work(save_path, debug=False)"
   ]
  },
  {
   "cell_type": "code",
   "execution_count": 4,
   "metadata": {},
   "outputs": [],
   "source": [
    "from diffusion_planner.data_process.utils import convert_absolute_quantities_to_relative,_global_state_se2_array_to_local,_global_velocity_to_local\n",
    "from nuplan.planning.training.preprocessing.utils.agents_preprocessing import EgoInternalIndex, AgentInternalIndex\n"
   ]
  },
  {
   "cell_type": "code",
   "execution_count": 29,
   "metadata": {},
   "outputs": [
    {
     "name": "stdout",
     "output_type": "stream",
     "text": [
      "(30, 1, 11)\n",
      "(30, 80, 11)\n"
     ]
    }
   ],
   "source": [
    "from nuplan.common.actor_state.tracked_objects_types import TrackedObjectType\n",
    "scenario = processor._scenarios[0]\n",
    "map_name = scenario._map_name\n",
    "token = scenario.token\n",
    "processor.scenario = scenario\n",
    "processor.map_api = scenario.map_api\n",
    "\n",
    "\"\"\"\n",
    "ego\n",
    "\"\"\"\n",
    "ego_state = processor.scenario.initial_ego_state\n",
    "ego_coords = Point2D(ego_state.rear_axle.x, ego_state.rear_axle.y)\n",
    "anchor_ego_state = np.array([ego_state.rear_axle.x, ego_state.rear_axle.y, ego_state.rear_axle.heading], \\\n",
    "                            dtype=np.float64)\n",
    "\n",
    "\"\"\"\n",
    "neighbor agents\n",
    "\"\"\"\n",
    "neighbors = processor.scenario.initial_tracked_objects\n",
    "neighbor_past = list(processor.scenario.get_past_tracked_objects(iteration= 0, time_horizon=1.0))\n",
    "tracked_objects, tracked_objects_types, tracked_obj_tokens = sampled_tracked_objects_to_tensor(neighbors.tracked_objects)\n",
    "#  tracked_objects_past, _ = sampled_tracked_objects_to_array_list(neighbor_past)\n",
    "static_objects, static_objects_types =sampled_static_objects_to_array_list(neighbor_past[-1])\n",
    "tracked_objects_list = []\n",
    "for tracked_object in tracked_objects:\n",
    "  tracked_objects_list.append(tracked_object)\n",
    "_, neighbor_past, selected_indices, static_objects = agent_past_process(None, tracked_objects, tracked_objects_types, processor.num_agents,\\\n",
    "                                                        static_objects, static_objects_types, \\\n",
    "                                                        processor.num_static, processor.max_ped_bike, anchor_ego_state)\n",
    "# print(selected_indices[12])\n",
    "\n",
    "objects_tokens = [tracked_obj_tokens[key] for key in selected_indices]\n",
    "# print(len(selected_indices))\n",
    "# print(len(objects_tokens))\n",
    "# print(objects_tokens)\n",
    "neighbor_future = list(processor.scenario.get_future_tracked_objects(iteration= 0, time_horizon=8.0, num_samples =int(8*10)))\n",
    "# print(len(neighbor_future))\n",
    "slected_objs_future_traj = np.full((len(neighbor_future), len(objects_tokens), 11), np.nan, dtype=np.float64)\n",
    "for frame_id in range(len(neighbor_future)):\n",
    "  tracked_objects = neighbor_future[frame_id]\n",
    "  all_future_neighbor_info = []\n",
    "  current_frame_tracked_objects = {tracked_object.track_token: tracked_object for tracked_object in tracked_objects.tracked_objects}\n",
    "  for i in range(len(objects_tokens)):\n",
    "    if objects_tokens[i] in current_frame_tracked_objects.keys():\n",
    "      agent_state = current_frame_tracked_objects[objects_tokens[i]]\n",
    "\n",
    "      agent_global_poses = np.array([[agent_state.center.x, agent_state.center.y, agent_state.center.heading]])\n",
    "      agent_global_velocities = np.array([[agent_state.velocity.x, agent_state.velocity.y]])\n",
    "      transformed_poses = _global_state_se2_array_to_local(agent_global_poses, anchor_ego_state)\n",
    "      transformed_velocities = _global_velocity_to_local(agent_global_velocities, anchor_ego_state[-1])\n",
    "      local_agent_state = np.zeros((1, 11))\n",
    "      local_agent_state[:, 0] = transformed_poses[:, 0]\n",
    "      local_agent_state[:, 1] = transformed_poses[:, 1]\n",
    "      local_agent_state[:, 2] = np.cos(transformed_poses[:, 2])\n",
    "      local_agent_state[:, 3] = np.sin(transformed_poses[:, 2])\n",
    "      local_agent_state[:, 4] = transformed_velocities[:, 0]\n",
    "      local_agent_state[:, 5] = transformed_velocities[:, 1]\n",
    "      local_agent_state[:, 6] = agent_state.box.width\n",
    "      local_agent_state[:, 7] = agent_state.box.length\n",
    "      if agent_state.tracked_object_type == TrackedObjectType.VEHICLE:\n",
    "        local_agent_state[:, 8:] = [1, 0, 0]  # Mark as VEHICLE\n",
    "      elif agent_state.tracked_object_type == TrackedObjectType.PEDESTRIAN:\n",
    "        local_agent_state[:, 8:] = [0, 1, 0]  # Mark as PEDESTRIAN\n",
    "      else:  # TrackedObjectType.BICYCLE\n",
    "        local_agent_state[:, 8:] = [0, 0, 1]  # Mark as BICYCLE\n",
    "      slected_objs_future_traj[frame_id, i, :] = local_agent_state\n",
    "# selected_neighbor_future = np.full(len(objects_tokens))\n",
    "slected_objs_future_traj = slected_objs_future_traj.transpose(1, 0, 2)\n",
    "print(neighbor_past.shape)\n",
    "print(slected_objs_future_traj.shape)\n",
    "# neighbor_future.tracked_objects\n",
    "# for token in objects_tokens:\n",
    "#   selected_neighbor_future.append([selected_tracked_object for selected_tracked_object in neighbor_future \\\n",
    "#                                   if selected_tracked_object.tracked_objects.track_token == token])"
   ]
  },
  {
   "cell_type": "code",
   "execution_count": 30,
   "metadata": {},
   "outputs": [],
   "source": [
    "future_ego_states = processor.scenario.get_ego_future_trajectory(iteration=0, num_samples=int(8*10), time_horizon= 8.0)\n",
    "future_ego_states_numpy = np.array([(ego_state.rear_axle.x, ego_state.rear_axle.y, ego_state.rear_axle.heading, \\\n",
    "                  ego_state.dynamic_car_state.rear_axle_velocity_2d.x, ego_state.dynamic_car_state.rear_axle_velocity_2d.y,\\\n",
    "                  ego_state.dynamic_car_state.rear_axle_acceleration_2d.x, ego_state.dynamic_car_state.rear_axle_acceleration_2d.y ) for ego_state in future_ego_states], dtype = np.float64)\n",
    "local_future_ego_states = convert_absolute_quantities_to_relative(future_ego_states_numpy, anchor_ego_state,'ego')"
   ]
  },
  {
   "cell_type": "code",
   "execution_count": 26,
   "metadata": {},
   "outputs": [],
   "source": [
    "import os\n",
    "\n",
    "# 处理时间格式\n",
    "\n",
    "save_path = \"/cailiu2/Diffusion-Planner/data/processed\"\n",
    "# 生成文件名\n",
    "file_name = f\"{processor.scenario.log_name}_{processor.scenario.token}_{processor.scenario.scenario_type}.pt\"\n",
    "\n",
    "# 确保文件名合法（移除特殊字符）\n",
    "file_name = file_name.replace(\":\", \"_\").replace(\"/\", \"_\").replace(\" \", \"_\")\n",
    "\n",
    "# 指定存放路径\n",
    "os.makedirs(save_path, exist_ok=True)  # 确保目录存在\n",
    "\n",
    "# 完整文件路径\n",
    "file_path = os.path.join(save_path, file_name)\n",
    "torch.save(data, file_path)\n"
   ]
  },
  {
   "cell_type": "code",
   "execution_count": 31,
   "metadata": {},
   "outputs": [
    {
     "name": "stdout",
     "output_type": "stream",
     "text": [
      "Worker threads: 128\n"
     ]
    },
    {
     "name": "stderr",
     "output_type": "stream",
     "text": [
      "  0%|          | 0/10 [00:00<?, ?it/s]\n"
     ]
    },
    {
     "ename": "AttributeError",
     "evalue": "'DataProcessor' object has no attribute 'future_time_horizon'",
     "output_type": "error",
     "traceback": [
      "\u001b[0;31m---------------------------------------------------------------------------\u001b[0m",
      "\u001b[0;31mAttributeError\u001b[0m                            Traceback (most recent call last)",
      "Cell \u001b[0;32mIn[31], line 15\u001b[0m\n\u001b[1;32m     13\u001b[0m device \u001b[38;5;241m=\u001b[39m torch\u001b[38;5;241m.\u001b[39mdevice(\u001b[38;5;124m\"\u001b[39m\u001b[38;5;124mcuda:0\u001b[39m\u001b[38;5;124m\"\u001b[39m \u001b[38;5;28;01mif\u001b[39;00m torch\u001b[38;5;241m.\u001b[39mcuda\u001b[38;5;241m.\u001b[39mis_available() \u001b[38;5;28;01melse\u001b[39;00m \u001b[38;5;124m\"\u001b[39m\u001b[38;5;124mcpu\u001b[39m\u001b[38;5;124m\"\u001b[39m)\n\u001b[1;32m     14\u001b[0m processor \u001b[38;5;241m=\u001b[39m DataProcessor(scenarios, device)\n\u001b[0;32m---> 15\u001b[0m \u001b[43mprocessor\u001b[49m\u001b[38;5;241;43m.\u001b[39;49m\u001b[43mwork\u001b[49m\u001b[43m(\u001b[49m\u001b[43msave_path\u001b[49m\u001b[43m,\u001b[49m\u001b[43m \u001b[49m\u001b[43mdebug\u001b[49m\u001b[38;5;241;43m=\u001b[39;49m\u001b[38;5;28;43;01mFalse\u001b[39;49;00m\u001b[43m)\u001b[49m\n",
      "File \u001b[0;32m/cailiu2/Diffusion-Planner/diffusion_planner/data_process/data_processor.py:168\u001b[0m, in \u001b[0;36mwork\u001b[0;34m(self, save_dir, debug)\u001b[0m\n\u001b[1;32m    166\u001b[0m static_objects, static_objects_types \u001b[38;5;241m=\u001b[39msampled_static_objects_to_array_list(neighbor_past[\u001b[38;5;241m-\u001b[39m\u001b[38;5;241m1\u001b[39m])\n\u001b[1;32m    167\u001b[0m tracked_objects_list \u001b[38;5;241m=\u001b[39m []\n\u001b[0;32m--> 168\u001b[0m \u001b[38;5;28;01mfor\u001b[39;00m tracked_object \u001b[38;5;129;01min\u001b[39;00m tracked_objects:\n\u001b[1;32m    169\u001b[0m    tracked_objects_list\u001b[38;5;241m.\u001b[39mappend(tracked_object)\n\u001b[1;32m    170\u001b[0m _, neighbor_past, selected_indices, static_objects \u001b[38;5;241m=\u001b[39m agent_past_process(\u001b[38;5;28;01mNone\u001b[39;00m, tracked_objects, tracked_objects_types, \u001b[38;5;28mself\u001b[39m\u001b[38;5;241m.\u001b[39mnum_agents,\\\n\u001b[1;32m    171\u001b[0m                                                          static_objects, static_objects_types, \\\n\u001b[1;32m    172\u001b[0m                                                          \u001b[38;5;28mself\u001b[39m\u001b[38;5;241m.\u001b[39mnum_static, \u001b[38;5;28mself\u001b[39m\u001b[38;5;241m.\u001b[39mmax_ped_bike, anchor_ego_state)\n",
      "\u001b[0;31mAttributeError\u001b[0m: 'DataProcessor' object has no attribute 'future_time_horizon'"
     ]
    }
   ],
   "source": [
    "map_version = \"nuplan-maps-v1.0\"\n",
    "data_path = \"/share/data_cold/open_data/nuplan/data/cache/mini\"\n",
    "map_path = \"/share/data_cold/open_data/nuplan/maps\"\n",
    "save_path = \"/cailiu2/Diffusion-Planner/data/processed\"\n",
    "total_scenarios = 10\n",
    "scenario_mapping = ScenarioMapping(scenario_map=get_scenario_map(), subsample_ratio_override=0.5)\n",
    "builder = NuPlanScenarioBuilder(data_path, map_path, None, None, map_version, scenario_mapping = scenario_mapping)\n",
    "worker = SingleMachineParallelExecutor(use_process_pool=True, max_workers = 128)\n",
    "scenario_filter = ScenarioFilter(*get_filter_parameters(num_scenarios_per_type=10,\n",
    "                                                          limit_total_scenarios=total_scenarios))\n",
    "scenarios = builder.get_scenarios(scenario_filter, worker)\n",
    "del worker, builder, scenario_filter\n",
    "device = torch.device(\"cuda:0\" if torch.cuda.is_available() else \"cpu\")\n",
    "processor = DataProcessor(scenarios, device)\n",
    "processor.work(save_path, debug=False)"
   ]
  }
 ],
 "metadata": {
  "kernelspec": {
   "display_name": "diffusion_planner",
   "language": "python",
   "name": "python3"
  },
  "language_info": {
   "codemirror_mode": {
    "name": "ipython",
    "version": 3
   },
   "file_extension": ".py",
   "mimetype": "text/x-python",
   "name": "python",
   "nbconvert_exporter": "python",
   "pygments_lexer": "ipython3",
   "version": "3.9.21"
  }
 },
 "nbformat": 4,
 "nbformat_minor": 2
}
