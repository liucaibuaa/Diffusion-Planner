{
 "cells": [
  {
   "cell_type": "code",
   "execution_count": null,
   "metadata": {},
   "outputs": [],
   "source": [
    "from data_processor import DataProcessor\n",
    "from nuplan.common.actor_state.state_representation import Point2D\n",
    "from nuplan.planning.scenario_builder.nuplan_db.nuplan_scenario_utils import ScenarioMapping\n",
    "from nuplan.planning.scenario_builder.nuplan_db.nuplan_scenario_builder import NuPlanScenarioBuilder\n",
    "from nuplan.planning.scenario_builder.scenario_filter import ScenarioFilter\n",
    "from nuplan.planning.utils.multithreading.worker_parallel import SingleMachineParallelExecutor\n",
    "from diffusion_planner.data_process.utils import (\n",
    "get_scenario_map,\n",
    "get_filter_parameters,\n",
    "sampled_tracked_objects_to_tensor,\n",
    ")\n",
    "\n",
    "from diffusion_planner.data_process.roadblock_utils import (\n",
    "  route_roadblock_correction\n",
    ")\n",
    "\n",
    "\n",
    "from diffusion_planner.data_process.agent_process import(sampled_tracked_objects_to_array_list,\n",
    "                                                         sampled_static_objects_to_array_list,\n",
    "                                                         agent_past_process,)\n",
    "from diffusion_planner.data_process.map_process import(map_process,\n",
    "                                                       get_neighbor_vector_set_map)\n",
    "import numpy as np\n"
   ]
  },
  {
   "cell_type": "code",
   "execution_count": null,
   "metadata": {},
   "outputs": [],
   "source": [
    "db_path = \"/cailiu2/Diffusion-Planner/data/2021.10.21.14.43.30_veh-28_01244_01519.db\" # single db file\n",
    "db_path = \"/share/data_cold/open_data/nuplan/data/cache/mini\"  # mini db files\n",
    "\n",
    "map_path = \"/share/data_cold/open_data/nuplan/maps\"\n",
    "save_path = \"/cailiu2/Diffusion-Planner/data/processed\"\n",
    "map_version = \"nuplan-maps-v1.0\"\n",
    "\n",
    "save_processed_path = \"/cailiu2/Diffusion-Planner/data/processed\"\n",
    "total_scenarios = 10\n",
    "scenario_mapping = ScenarioMapping(scenario_map=get_scenario_map(), subsample_ratio_override=0.5)\n",
    "builder = NuPlanScenarioBuilder(db_path, map_path, None, None, map_version, scenario_mapping = scenario_mapping)\n",
    "worker = SingleMachineParallelExecutor(use_process_pool=True)\n",
    "scenario_filter = ScenarioFilter(*get_filter_parameters(num_scenarios_per_type=30000,\n",
    "                                                          limit_total_scenarios=total_scenarios))\n",
    "scenarios = builder.get_scenarios(scenario_filter, worker)\n",
    "del worker, builder, scenario_filter\n",
    "processor = DataProcessor(scenarios)"
   ]
  },
  {
   "cell_type": "code",
   "execution_count": 5,
   "metadata": {},
   "outputs": [
    {
     "name": "stdout",
     "output_type": "stream",
     "text": [
      "Point2D(x=330957.49299200956, y=4691143.579406448)\n",
      "[3.30957493e+05 4.69114358e+06 5.43869085e-01]\n",
      "<class 'list'>\n",
      "<class 'nuplan.planning.simulation.observation.observation_type.DetectionsTracks'>\n",
      "(57, 8)\n",
      "10\n",
      "4\n"
     ]
    }
   ],
   "source": [
    "\"\"\"\n",
    "ego\n",
    "\"\"\"\n",
    "ego_state = processor.scenario.initial_ego_state\n",
    "ego_coords = Point2D(ego_state.rear_axle.x, ego_state.rear_axle.y)\n",
    "anchor_ego_state = np.array([ego_state.rear_axle.x, ego_state.rear_axle.y, ego_state.rear_axle.heading], dtype=np.float64)\n",
    "print(ego_coords)\n",
    "print(anchor_ego_state)\n",
    "\n",
    "\n",
    "\"\"\"\n",
    "neighbor\n",
    "\"\"\"\n",
    "# neighbor_agent_past, neighbor_agents_types = processor.get_neighbor_agents()\n",
    "neighbors = processor.scenario.initial_tracked_objects\n",
    "neighbors.tracked_objects\n",
    "# print(len(neighbors.tracked_objects))\n",
    "# print(type(neighbors.tracked_objects))\n",
    "\n",
    "neighbor_past = list(processor.scenario.get_past_tracked_objects(iteration= 0, time_horizon=1.0))\n",
    "print(type(neighbor_past))\n",
    "print(type(neighbor_past[0]))\n",
    "# for neighbor in neighbors:\n",
    "tracked_objects, tracked_objects_types = sampled_tracked_objects_to_tensor(neighbors.tracked_objects)\n",
    "tracked_objects_past, _ = sampled_tracked_objects_to_array_list(neighbor_past)\n",
    "static_objects, static_objects_types =sampled_static_objects_to_array_list(neighbor_past[-1])\n",
    "# print(type(neighbor_past))\n",
    "# print(len(neighbor_past))\n",
    "tracked_objects_list = []\n",
    "\n",
    "for tracked_object in tracked_objects:\n",
    "  tracked_objects_list.append(tracked_object)\n",
    "print(tracked_objects_past[0].shape)\n",
    "print(len(tracked_objects_past))\n",
    "print(len(static_objects))\n",
    "\n",
    "num_agents = 30\n",
    "num_statics = 30\n",
    "max_ped_bike = 10\n",
    "_, neighbor_past, _, static_objects = agent_past_process(None, tracked_objects, tracked_objects_types, num_agents,static_objects, static_objects_types, \\\n",
    "                                                          num_statics, max_ped_bike, anchor_ego_state)\n",
    "# print(len(tracked_objects_list))\n"
   ]
  },
  {
   "cell_type": "code",
   "execution_count": 11,
   "metadata": {},
   "outputs": [],
   "source": [
    "'''\n",
    "Map\n",
    "'''\n",
    "map_api = processor.scenario.map_api\n",
    "route_roadblocks_ids = processor.scenario.get_route_roadblock_ids()\n",
    "\n",
    "route_roadblocks_ids =route_roadblock_correction(\n",
    "                    ego_state, map_api, route_roadblocks_ids\n",
    "                    )\n",
    "traffic_light_data = processor.scenario.get_traffic_light_status_at_iteration(iteration= 0)\n",
    "coords, traffic_light_data, speed_limit, lane_route =get_neighbor_vector_set_map(\n",
    "            map_api, processor._map_features, ego_coords, processor._radius, traffic_light_data)\n",
    "vector_map = map_process(route_roadblocks_ids, anchor_ego_state, coords, traffic_light_data, speed_limit, lane_route, processor._map_features,\n",
    "                            processor._max_elements, processor._max_points)\n"
   ]
  },
  {
   "cell_type": "code",
   "execution_count": 25,
   "metadata": {},
   "outputs": [],
   "source": [
    "data = {\"neighbor_agents_past\": neighbor_past[:, -21:],\n",
    "        \"ego_current_state\": np.array([0., 0., 1. ,0.], dtype=np.float32), # ego centric x, y, cos, sin\n",
    "        \"static_objects\": static_objects}\n",
    "data.update(vector_map)\n",
    "import torch\n",
    "from diffusion_planner.data_process.utils import convert_to_model_inputs\n",
    "device = torch.device(\"cuda:0\" if torch.cuda.is_available() else \"cpu\")\n",
    "data = convert_to_model_inputs(data, device)\n"
   ]
  },
  {
   "cell_type": "code",
   "execution_count": 26,
   "metadata": {},
   "outputs": [],
   "source": [
    "import os\n",
    "\n",
    "# 处理时间格式\n",
    "\n",
    "save_path = \"/cailiu2/Diffusion-Planner/data/processed\"\n",
    "# 生成文件名\n",
    "file_name = f\"{processor.scenario.log_name}_{processor.scenario.token}_{processor.scenario.scenario_type}.pt\"\n",
    "\n",
    "# 确保文件名合法（移除特殊字符）\n",
    "file_name = file_name.replace(\":\", \"_\").replace(\"/\", \"_\").replace(\" \", \"_\")\n",
    "\n",
    "# 指定存放路径\n",
    "os.makedirs(save_path, exist_ok=True)  # 确保目录存在\n",
    "\n",
    "# 完整文件路径\n",
    "file_path = os.path.join(save_path, file_name)\n",
    "torch.save(data, file_path)\n"
   ]
  },
  {
   "cell_type": "code",
   "execution_count": null,
   "metadata": {},
   "outputs": [],
   "source": []
  }
 ],
 "metadata": {
  "kernelspec": {
   "display_name": "diffusion_planner",
   "language": "python",
   "name": "python3"
  },
  "language_info": {
   "codemirror_mode": {
    "name": "ipython",
    "version": 3
   },
   "file_extension": ".py",
   "mimetype": "text/x-python",
   "name": "python",
   "nbconvert_exporter": "python",
   "pygments_lexer": "ipython3",
   "version": "3.9.21"
  }
 },
 "nbformat": 4,
 "nbformat_minor": 2
}
