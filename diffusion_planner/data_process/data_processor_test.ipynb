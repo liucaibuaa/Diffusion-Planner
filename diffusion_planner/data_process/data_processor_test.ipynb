{
 "cells": [
  {
   "cell_type": "code",
   "execution_count": 1,
   "metadata": {},
   "outputs": [],
   "source": [
    "from data_processor import DataProcessor\n",
    "from nuplan.common.actor_state.state_representation import Point2D\n",
    "from nuplan.planning.scenario_builder.nuplan_db.nuplan_scenario_utils import ScenarioMapping\n",
    "from nuplan.planning.scenario_builder.nuplan_db.nuplan_scenario_builder import NuPlanScenarioBuilder\n",
    "from nuplan.planning.scenario_builder.scenario_filter import ScenarioFilter\n",
    "from nuplan.planning.utils.multithreading.worker_parallel import SingleMachineParallelExecutor\n",
    "from diffusion_planner.data_process.utils import (convert_to_model_inputs,\n",
    "get_scenario_map,\n",
    "get_filter_parameters\n",
    ")\n",
    "import numpy as np\n"
   ]
  },
  {
   "cell_type": "code",
   "execution_count": 2,
   "metadata": {},
   "outputs": [],
   "source": [
    "db_path = \"/cailiu2/Diffusion-Planner/data/2021.10.21.14.43.30_veh-28_01244_01519.db\" # single db file\n",
    "db_path = \"/share/data_cold/open_data/nuplan/data/cache/mini\"  # multi db files\n",
    "data_root = \"/cailiu2/Diffusion-Planner/data/\"\n",
    "map_path = \"/cailiu2/Diffusion-Planner/data/maps\"\n",
    "map_version = \"nuplan-maps-v1.0\"\n",
    "\n",
    "save_processed_path = \"/cailiu2/Diffusion-Planner/data/processed\"\n",
    "total_scenarios = 10\n",
    "scenario_mapping = ScenarioMapping(scenario_map=get_scenario_map(), subsample_ratio_override=0.5)\n",
    "builder = NuPlanScenarioBuilder(db_path, map_path, None, None, map_version, scenario_mapping = scenario_mapping)\n",
    "worker = SingleMachineParallelExecutor(use_process_pool=True)\n",
    "scenario_filter = ScenarioFilter(*get_filter_parameters(num_scenarios_per_type=30000,\n",
    "                                                          limit_total_scenarios=total_scenarios))\n",
    "scenarios = builder.get_scenarios(scenario_filter, worker)\n",
    "del worker, builder, scenario_filter\n",
    "processor = DataProcessor(scenarios)"
   ]
  },
  {
   "cell_type": "code",
   "execution_count": 11,
   "metadata": {},
   "outputs": [
    {
     "name": "stdout",
     "output_type": "stream",
     "text": [
      "<nuplan.planning.scenario_builder.nuplan_db.nuplan_scenario.NuPlanScenario object at 0x7f25dd5f9af0>\n",
      "torch.Size([21, 7])\n",
      "torch.Size([21])\n",
      "tensor(100014)\n",
      "21\n",
      "tensor([ 5.6000e+01, -1.0389e-01,  1.3635e-02,  2.2718e+00,  7.2730e-01,\n",
      "         6.7506e-01,  3.3093e+05,  4.6911e+06])\n",
      "tensor([ 5.5000e+01, -1.2660e+00, -8.2296e-01, -2.5866e+00,  8.2209e-01,\n",
      "         9.2590e-01,  3.3095e+05,  4.6911e+06])\n",
      "tensor([ 5.4000e+01, -1.0593e-02, -4.8961e-04, -3.0575e-01,  8.1148e-01,\n",
      "         7.8747e-01,  3.3093e+05,  4.6911e+06])\n",
      "tensor([ 5.3000e+01,  1.5506e-02, -1.0476e-02,  1.0675e+00,  7.7239e-01,\n",
      "         7.0341e-01,  3.3093e+05,  4.6911e+06])\n",
      "torch.Size([57, 8])\n"
     ]
    }
   ],
   "source": [
    "\n",
    "ego_agent_past = None # inference no need ego_agent_past\n",
    "print(scenarios[0])\n",
    "\n",
    "'''\n",
    "ego\n",
    "'''\n",
    "processor.scenario = scenarios[0]\n",
    "ego_agent_past, time_stamps_past = processor.get_ego_agent()\n",
    "\n",
    "print(ego_agent_past.shape)\n",
    "print(time_stamps_past.shape)\n",
    "print(time_stamps_past[1] - time_stamps_past[0])\n",
    "\n",
    "neighbor_agent_past, neighbor_agents_types = processor.get_neighbor_agents()\n",
    "print(len(neighbor_agent_past))\n",
    "print(neighbor_agent_past[0][-1, :])\n",
    "print(neighbor_agent_past[0][-2, :])\n",
    "print(neighbor_agent_past[0][-3, :])\n",
    "print(neighbor_agent_past[0][-4, :])\n",
    "print(neighbor_agent_past[0].shape)\n",
    "\n",
    "# ego_coords = Point2D(ego_state.rear_axle.x, ego_state.rear_axle.y)\n",
    "# anchor_ego_state = np.array([ego_state.rear_axle.x, ego_state.rear_axle.y, ego_state.rear_axle.heading], dtype=np.float64)"
   ]
  },
  {
   "cell_type": "code",
   "execution_count": null,
   "metadata": {},
   "outputs": [
    {
     "name": "stdout",
     "output_type": "stream",
     "text": [
      "Point2D(x=330957.49299200956, y=4691143.579406448)\n",
      "[3.30957493e+05 4.69114358e+06 5.43869085e-01]\n"
     ]
    }
   ],
   "source": [
    "\"\"\"\n",
    "ego\n",
    "\"\"\"\n",
    "ego_state = processor.scenario.initial_ego_state\n",
    "ego_coords = Point2D(ego_state.rear_axle.x, ego_state.rear_axle.y)\n",
    "anchor_ego_state = np.array([ego_state.rear_axle.x, ego_state.rear_axle.y, ego_state.rear_axle.heading], dtype=np.float64)\n",
    "print(ego_coords)\n",
    "print(anchor_ego_state)\n",
    "\n",
    "\n"
   ]
  },
  {
   "cell_type": "code",
   "execution_count": null,
   "metadata": {},
   "outputs": [],
   "source": []
  }
 ],
 "metadata": {
  "kernelspec": {
   "display_name": "diffusion_planner",
   "language": "python",
   "name": "python3"
  },
  "language_info": {
   "codemirror_mode": {
    "name": "ipython",
    "version": 3
   },
   "file_extension": ".py",
   "mimetype": "text/x-python",
   "name": "python",
   "nbconvert_exporter": "python",
   "pygments_lexer": "ipython3",
   "version": "3.9.21"
  }
 },
 "nbformat": 4,
 "nbformat_minor": 2
}
